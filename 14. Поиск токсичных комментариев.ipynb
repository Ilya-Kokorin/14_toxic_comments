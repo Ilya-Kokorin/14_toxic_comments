{
 "cells": [
  {
   "cell_type": "markdown",
   "metadata": {},
   "source": [
    "# Поиск токсичных комментариев"
   ]
  },
  {
   "cell_type": "markdown",
   "metadata": {},
   "source": [
    "Интернет-магазин запускает новый сервис. Теперь пользователи могут редактировать и дополнять описания товаров, как в вики-сообществах. То есть клиенты предлагают свои правки и комментируют изменения других. Магазину нужен инструмент, который будет искать токсичные комментарии и отправлять их на модерацию. \n",
    "\n",
    "Обучим модель классифицировать комментарии на позитивные и негативные на основе набора данных с разметкой о токсичности правок.\n",
    "\n",
    "Построим модель со значением метрики качества *F1* не меньше 0.75. \n",
    "\n",
    "**Инструкция по выполнению проекта**\n",
    "\n",
    "1. Загрузите и подготовьте данные.\n",
    "2. Обучите разные модели. \n",
    "3. Сделайте выводы.\n",
    "\n",
    "Для выполнения проекта применять *BERT* необязательно, но вы можете попробовать.\n",
    "\n",
    "**Описание данных**\n",
    "\n",
    "Данные находятся в файле `toxic_comments.csv`. Столбец *text* в нём содержит текст комментария, а *toxic* — целевой признак."
   ]
  },
  {
   "cell_type": "markdown",
   "metadata": {},
   "source": [
    "## Загрузка и подготовка"
   ]
  },
  {
   "cell_type": "code",
   "execution_count": 1,
   "metadata": {},
   "outputs": [],
   "source": [
    "import numpy as np\n",
    "import pandas as pd\n",
    "import re\n",
    "import nltk\n",
    "import spacy\n",
    "from tqdm import tqdm\n",
    "from nltk import word_tokenize, pos_tag\n",
    "from nltk.stem import WordNetLemmatizer\n",
    "from nltk.corpus import stopwords as nltk_stopwords\n",
    "from sklearn.feature_extraction.text import TfidfVectorizer\n",
    "from sklearn.model_selection import train_test_split, cross_val_score, GridSearchCV\n",
    "from sklearn.linear_model import LogisticRegression\n",
    "from lightgbm import LGBMClassifier\n",
    "from sklearn.metrics import f1_score\n",
    "import warnings\n",
    "warnings.filterwarnings('ignore')"
   ]
  },
  {
   "cell_type": "code",
   "execution_count": 2,
   "metadata": {},
   "outputs": [],
   "source": [
    "RANDOM_STATE = 10\n",
    "cv_param = 3"
   ]
  },
  {
   "cell_type": "code",
   "execution_count": 3,
   "metadata": {},
   "outputs": [],
   "source": [
    "def about_df(list_df):\n",
    "    '''выводит информацию о всех датасетах из списка list_df'''\n",
    "    for c, i in enumerate(list_df):\n",
    "        print(\"**** DATASET_\"+str(c+1)+' ****')\n",
    "        display(i.info())\n",
    "        display(i.describe().round(2))\n",
    "        print(f'Количество дубликатов: {i.duplicated().sum()}')\n",
    "        print('Количество пропущенных значений:', i.isnull().sum(), sep='\\n')\n",
    "        print()"
   ]
  },
  {
   "cell_type": "code",
   "execution_count": 4,
   "metadata": {},
   "outputs": [],
   "source": [
    "data = pd.read_csv('/datasets/toxic_comments.csv')\n",
    "corpus = list(data['text'])"
   ]
  },
  {
   "cell_type": "code",
   "execution_count": 5,
   "metadata": {},
   "outputs": [
    {
     "name": "stdout",
     "output_type": "stream",
     "text": [
      "**** DATASET_1 ****\n",
      "<class 'pandas.core.frame.DataFrame'>\n",
      "RangeIndex: 159292 entries, 0 to 159291\n",
      "Data columns (total 3 columns):\n",
      " #   Column      Non-Null Count   Dtype \n",
      "---  ------      --------------   ----- \n",
      " 0   Unnamed: 0  159292 non-null  int64 \n",
      " 1   text        159292 non-null  object\n",
      " 2   toxic       159292 non-null  int64 \n",
      "dtypes: int64(2), object(1)\n",
      "memory usage: 3.6+ MB\n"
     ]
    },
    {
     "data": {
      "text/plain": [
       "None"
      ]
     },
     "metadata": {},
     "output_type": "display_data"
    },
    {
     "data": {
      "text/html": [
       "<div>\n",
       "<style scoped>\n",
       "    .dataframe tbody tr th:only-of-type {\n",
       "        vertical-align: middle;\n",
       "    }\n",
       "\n",
       "    .dataframe tbody tr th {\n",
       "        vertical-align: top;\n",
       "    }\n",
       "\n",
       "    .dataframe thead th {\n",
       "        text-align: right;\n",
       "    }\n",
       "</style>\n",
       "<table border=\"1\" class=\"dataframe\">\n",
       "  <thead>\n",
       "    <tr style=\"text-align: right;\">\n",
       "      <th></th>\n",
       "      <th>Unnamed: 0</th>\n",
       "      <th>toxic</th>\n",
       "    </tr>\n",
       "  </thead>\n",
       "  <tbody>\n",
       "    <tr>\n",
       "      <th>count</th>\n",
       "      <td>159292.00</td>\n",
       "      <td>159292.0</td>\n",
       "    </tr>\n",
       "    <tr>\n",
       "      <th>mean</th>\n",
       "      <td>79725.70</td>\n",
       "      <td>0.1</td>\n",
       "    </tr>\n",
       "    <tr>\n",
       "      <th>std</th>\n",
       "      <td>46028.84</td>\n",
       "      <td>0.3</td>\n",
       "    </tr>\n",
       "    <tr>\n",
       "      <th>min</th>\n",
       "      <td>0.00</td>\n",
       "      <td>0.0</td>\n",
       "    </tr>\n",
       "    <tr>\n",
       "      <th>25%</th>\n",
       "      <td>39872.75</td>\n",
       "      <td>0.0</td>\n",
       "    </tr>\n",
       "    <tr>\n",
       "      <th>50%</th>\n",
       "      <td>79721.50</td>\n",
       "      <td>0.0</td>\n",
       "    </tr>\n",
       "    <tr>\n",
       "      <th>75%</th>\n",
       "      <td>119573.25</td>\n",
       "      <td>0.0</td>\n",
       "    </tr>\n",
       "    <tr>\n",
       "      <th>max</th>\n",
       "      <td>159450.00</td>\n",
       "      <td>1.0</td>\n",
       "    </tr>\n",
       "  </tbody>\n",
       "</table>\n",
       "</div>"
      ],
      "text/plain": [
       "       Unnamed: 0     toxic\n",
       "count   159292.00  159292.0\n",
       "mean     79725.70       0.1\n",
       "std      46028.84       0.3\n",
       "min          0.00       0.0\n",
       "25%      39872.75       0.0\n",
       "50%      79721.50       0.0\n",
       "75%     119573.25       0.0\n",
       "max     159450.00       1.0"
      ]
     },
     "metadata": {},
     "output_type": "display_data"
    },
    {
     "name": "stdout",
     "output_type": "stream",
     "text": [
      "Количество дубликатов: 0\n",
      "Количество пропущенных значений:\n",
      "Unnamed: 0    0\n",
      "text          0\n",
      "toxic         0\n",
      "dtype: int64\n",
      "\n"
     ]
    }
   ],
   "source": [
    "about_df([data])"
   ]
  },
  {
   "cell_type": "code",
   "execution_count": 6,
   "metadata": {},
   "outputs": [
    {
     "data": {
      "text/html": [
       "<div>\n",
       "<style scoped>\n",
       "    .dataframe tbody tr th:only-of-type {\n",
       "        vertical-align: middle;\n",
       "    }\n",
       "\n",
       "    .dataframe tbody tr th {\n",
       "        vertical-align: top;\n",
       "    }\n",
       "\n",
       "    .dataframe thead th {\n",
       "        text-align: right;\n",
       "    }\n",
       "</style>\n",
       "<table border=\"1\" class=\"dataframe\">\n",
       "  <thead>\n",
       "    <tr style=\"text-align: right;\">\n",
       "      <th></th>\n",
       "      <th>Unnamed: 0</th>\n",
       "      <th>text</th>\n",
       "      <th>toxic</th>\n",
       "    </tr>\n",
       "  </thead>\n",
       "  <tbody>\n",
       "    <tr>\n",
       "      <th>0</th>\n",
       "      <td>0</td>\n",
       "      <td>Explanation\\nWhy the edits made under my usern...</td>\n",
       "      <td>0</td>\n",
       "    </tr>\n",
       "    <tr>\n",
       "      <th>1</th>\n",
       "      <td>1</td>\n",
       "      <td>D'aww! He matches this background colour I'm s...</td>\n",
       "      <td>0</td>\n",
       "    </tr>\n",
       "    <tr>\n",
       "      <th>2</th>\n",
       "      <td>2</td>\n",
       "      <td>Hey man, I'm really not trying to edit war. It...</td>\n",
       "      <td>0</td>\n",
       "    </tr>\n",
       "    <tr>\n",
       "      <th>3</th>\n",
       "      <td>3</td>\n",
       "      <td>\"\\nMore\\nI can't make any real suggestions on ...</td>\n",
       "      <td>0</td>\n",
       "    </tr>\n",
       "    <tr>\n",
       "      <th>4</th>\n",
       "      <td>4</td>\n",
       "      <td>You, sir, are my hero. Any chance you remember...</td>\n",
       "      <td>0</td>\n",
       "    </tr>\n",
       "  </tbody>\n",
       "</table>\n",
       "</div>"
      ],
      "text/plain": [
       "   Unnamed: 0                                               text  toxic\n",
       "0           0  Explanation\\nWhy the edits made under my usern...      0\n",
       "1           1  D'aww! He matches this background colour I'm s...      0\n",
       "2           2  Hey man, I'm really not trying to edit war. It...      0\n",
       "3           3  \"\\nMore\\nI can't make any real suggestions on ...      0\n",
       "4           4  You, sir, are my hero. Any chance you remember...      0"
      ]
     },
     "execution_count": 6,
     "metadata": {},
     "output_type": "execute_result"
    }
   ],
   "source": [
    "data.head()"
   ]
  },
  {
   "cell_type": "code",
   "execution_count": 7,
   "metadata": {},
   "outputs": [],
   "source": [
    "# Unnamed: 0 - лишняя колонка, удалим\n",
    "data = data.drop(['Unnamed: 0'], axis=1)"
   ]
  },
  {
   "cell_type": "code",
   "execution_count": 8,
   "metadata": {},
   "outputs": [
    {
     "data": {
      "text/plain": [
       "0    143106\n",
       "1     16186\n",
       "Name: toxic, dtype: int64"
      ]
     },
     "execution_count": 8,
     "metadata": {},
     "output_type": "execute_result"
    }
   ],
   "source": [
    "data.toxic.value_counts()"
   ]
  },
  {
   "cell_type": "markdown",
   "metadata": {},
   "source": [
    "Как видно, токсичных комментариев намного меньше (16 тыс против 143). Обработаем входные тексты (очистим от лишних символов и лемматизируем):"
   ]
  },
  {
   "cell_type": "code",
   "execution_count": 9,
   "metadata": {},
   "outputs": [
    {
     "data": {
      "text/html": [
       "<div>\n",
       "<style scoped>\n",
       "    .dataframe tbody tr th:only-of-type {\n",
       "        vertical-align: middle;\n",
       "    }\n",
       "\n",
       "    .dataframe tbody tr th {\n",
       "        vertical-align: top;\n",
       "    }\n",
       "\n",
       "    .dataframe thead th {\n",
       "        text-align: right;\n",
       "    }\n",
       "</style>\n",
       "<table border=\"1\" class=\"dataframe\">\n",
       "  <thead>\n",
       "    <tr style=\"text-align: right;\">\n",
       "      <th></th>\n",
       "      <th>text</th>\n",
       "      <th>toxic</th>\n",
       "    </tr>\n",
       "  </thead>\n",
       "  <tbody>\n",
       "    <tr>\n",
       "      <th>0</th>\n",
       "      <td>Explanation\\nWhy the edits made under my usern...</td>\n",
       "      <td>0</td>\n",
       "    </tr>\n",
       "    <tr>\n",
       "      <th>1</th>\n",
       "      <td>D'aww! He matches this background colour I'm s...</td>\n",
       "      <td>0</td>\n",
       "    </tr>\n",
       "    <tr>\n",
       "      <th>2</th>\n",
       "      <td>Hey man, I'm really not trying to edit war. It...</td>\n",
       "      <td>0</td>\n",
       "    </tr>\n",
       "    <tr>\n",
       "      <th>3</th>\n",
       "      <td>\"\\nMore\\nI can't make any real suggestions on ...</td>\n",
       "      <td>0</td>\n",
       "    </tr>\n",
       "    <tr>\n",
       "      <th>4</th>\n",
       "      <td>You, sir, are my hero. Any chance you remember...</td>\n",
       "      <td>0</td>\n",
       "    </tr>\n",
       "  </tbody>\n",
       "</table>\n",
       "</div>"
      ],
      "text/plain": [
       "                                                text  toxic\n",
       "0  Explanation\\nWhy the edits made under my usern...      0\n",
       "1  D'aww! He matches this background colour I'm s...      0\n",
       "2  Hey man, I'm really not trying to edit war. It...      0\n",
       "3  \"\\nMore\\nI can't make any real suggestions on ...      0\n",
       "4  You, sir, are my hero. Any chance you remember...      0"
      ]
     },
     "execution_count": 9,
     "metadata": {},
     "output_type": "execute_result"
    }
   ],
   "source": [
    "data.head()"
   ]
  },
  {
   "cell_type": "code",
   "execution_count": 10,
   "metadata": {},
   "outputs": [],
   "source": [
    "nlp = spacy.load('en_core_web_sm')  # загрузим предварительную обученную модель для английского языка\n",
    "stopwords = nlp.Defaults.stop_words  # импортируем стоп-слова\n",
    "\n",
    "def lemmatize_text_spacy(text):\n",
    "    '''Очистка от лишних символов и лемматизация'''\n",
    "    \n",
    "    cleared_text = nlp(\" \".join(re.sub(r'[^a-zA-z]', ' ', text).split()))\n",
    "    lemmatized_output = ' '.join([token.lemma_ for token in cleared_text])\n",
    "    return lemmatized_output"
   ]
  },
  {
   "cell_type": "code",
   "execution_count": 11,
   "metadata": {},
   "outputs": [
    {
     "name": "stderr",
     "output_type": "stream",
     "text": [
      "100%|██████████| 159292/159292 [40:52<00:00, 64.95it/s] \n"
     ]
    }
   ],
   "source": [
    "tqdm.pandas()\n",
    "data['lemm_text'] = data['text'].progress_apply(lemmatize_text_spacy)\n",
    "data = data.drop(['text'], axis=1)"
   ]
  },
  {
   "cell_type": "code",
   "execution_count": 12,
   "metadata": {},
   "outputs": [
    {
     "data": {
      "text/html": [
       "<div>\n",
       "<style scoped>\n",
       "    .dataframe tbody tr th:only-of-type {\n",
       "        vertical-align: middle;\n",
       "    }\n",
       "\n",
       "    .dataframe tbody tr th {\n",
       "        vertical-align: top;\n",
       "    }\n",
       "\n",
       "    .dataframe thead th {\n",
       "        text-align: right;\n",
       "    }\n",
       "</style>\n",
       "<table border=\"1\" class=\"dataframe\">\n",
       "  <thead>\n",
       "    <tr style=\"text-align: right;\">\n",
       "      <th></th>\n",
       "      <th>toxic</th>\n",
       "      <th>lemm_text</th>\n",
       "    </tr>\n",
       "  </thead>\n",
       "  <tbody>\n",
       "    <tr>\n",
       "      <th>0</th>\n",
       "      <td>0</td>\n",
       "      <td>explanation why the edit make under my usernam...</td>\n",
       "    </tr>\n",
       "    <tr>\n",
       "      <th>1</th>\n",
       "      <td>0</td>\n",
       "      <td>d aww he match this background colour I m seem...</td>\n",
       "    </tr>\n",
       "    <tr>\n",
       "      <th>2</th>\n",
       "      <td>0</td>\n",
       "      <td>hey man I m really not try to edit war it s ju...</td>\n",
       "    </tr>\n",
       "    <tr>\n",
       "      <th>3</th>\n",
       "      <td>0</td>\n",
       "      <td>More I can t make any real suggestion on impro...</td>\n",
       "    </tr>\n",
       "    <tr>\n",
       "      <th>4</th>\n",
       "      <td>0</td>\n",
       "      <td>you sir be my hero any chance you remember wha...</td>\n",
       "    </tr>\n",
       "  </tbody>\n",
       "</table>\n",
       "</div>"
      ],
      "text/plain": [
       "   toxic                                          lemm_text\n",
       "0      0  explanation why the edit make under my usernam...\n",
       "1      0  d aww he match this background colour I m seem...\n",
       "2      0  hey man I m really not try to edit war it s ju...\n",
       "3      0  More I can t make any real suggestion on impro...\n",
       "4      0  you sir be my hero any chance you remember wha..."
      ]
     },
     "execution_count": 12,
     "metadata": {},
     "output_type": "execute_result"
    }
   ],
   "source": [
    "data.head()"
   ]
  },
  {
   "cell_type": "markdown",
   "metadata": {},
   "source": [
    "Разобъем данные на стратифицированные выборки:"
   ]
  },
  {
   "cell_type": "code",
   "execution_count": 13,
   "metadata": {},
   "outputs": [
    {
     "name": "stdout",
     "output_type": "stream",
     "text": [
      "train size: (95574, 1)  valid size: (31859, 1)  test size: (31859, 1)\n"
     ]
    }
   ],
   "source": [
    "X_train_1, X_test, y_train_1, y_test = train_test_split(data.drop(['toxic'], axis=1), \n",
    "                                                        data['toxic'], \n",
    "                                                        test_size=0.2, \n",
    "                                                        random_state=RANDOM_STATE,\n",
    "                                                        stratify = data['toxic'])\n",
    "\n",
    "X_train, X_valid, y_train, y_valid = train_test_split(X_train_1, \n",
    "                                                      y_train_1, \n",
    "                                                      test_size=0.25,\n",
    "                                                      random_state=RANDOM_STATE,\n",
    "                                                      stratify=y_train_1)\n",
    "\n",
    "print('train size:', X_train.shape, ' valid size:', X_valid.shape, ' test size:', X_test.shape)"
   ]
  },
  {
   "cell_type": "code",
   "execution_count": 14,
   "metadata": {},
   "outputs": [],
   "source": [
    "count_tf_idf = TfidfVectorizer(stop_words=stopwords)"
   ]
  },
  {
   "cell_type": "code",
   "execution_count": 15,
   "metadata": {},
   "outputs": [],
   "source": [
    "X_train = count_tf_idf.fit_transform(X_train['lemm_text'])\n",
    "X_valid = count_tf_idf.transform(X_valid['lemm_text'])\n",
    "X_test = count_tf_idf.transform(X_test['lemm_text'])"
   ]
  },
  {
   "cell_type": "code",
   "execution_count": 16,
   "metadata": {},
   "outputs": [
    {
     "data": {
      "text/plain": [
       "<95574x117339 sparse matrix of type '<class 'numpy.float64'>'\n",
       "\twith 2189802 stored elements in Compressed Sparse Row format>"
      ]
     },
     "execution_count": 16,
     "metadata": {},
     "output_type": "execute_result"
    }
   ],
   "source": [
    "X_train"
   ]
  },
  {
   "cell_type": "markdown",
   "metadata": {},
   "source": [
    "**Вывод**\n",
    "<br> Загруженные данные содержат 159 тыс. отзывов. Большинство из них положительные. Данные комментарии были очищены от лишних символов и лемматизированы для моделирования. Пропуски и дубликаты в данных отсутствуют."
   ]
  },
  {
   "cell_type": "markdown",
   "metadata": {},
   "source": [
    "## Обучение"
   ]
  },
  {
   "cell_type": "markdown",
   "metadata": {},
   "source": [
    "Посмотрим, сколько очков даст простая регрессия на кросс-валидации (для сокращения времени параметр cv сделаем 3):"
   ]
  },
  {
   "cell_type": "code",
   "execution_count": 17,
   "metadata": {},
   "outputs": [
    {
     "name": "stdout",
     "output_type": "stream",
     "text": [
      "F1 на кросс-валидации 0.6881943299356603\n",
      "CPU times: user 48.8 s, sys: 58.7 s, total: 1min 47s\n",
      "Wall time: 1min 47s\n"
     ]
    }
   ],
   "source": [
    "%%time\n",
    "model = LogisticRegression()\n",
    "f1_train = cross_val_score(model, \n",
    "                           X_train, \n",
    "                           y_train, \n",
    "                           cv=cv_param, \n",
    "                           scoring='f1').mean()\n",
    "print('F1 на кросс-валидации', f1_train)"
   ]
  },
  {
   "cell_type": "markdown",
   "metadata": {},
   "source": [
    "Попробуем задать автоматическую настройку весов в обратной пропорции к частоте классов:"
   ]
  },
  {
   "cell_type": "code",
   "execution_count": 18,
   "metadata": {},
   "outputs": [
    {
     "name": "stdout",
     "output_type": "stream",
     "text": [
      "F1 на кросс-валидации с балансировкой 0.7493776507638096\n",
      "CPU times: user 36.9 s, sys: 43.6 s, total: 1min 20s\n",
      "Wall time: 1min 20s\n"
     ]
    }
   ],
   "source": [
    "%%time\n",
    "model = LogisticRegression(class_weight='balanced')\n",
    "f1_train = cross_val_score(model, \n",
    "                           X_train, \n",
    "                           y_train, \n",
    "                           cv=cv_param, \n",
    "                           scoring='f1').mean()\n",
    "print('F1 на кросс-валидации с балансировкой', f1_train)"
   ]
  },
  {
   "cell_type": "markdown",
   "metadata": {},
   "source": [
    "Виден прирост метрики, но все-равно это меньше целевых 0.75. Попоробуем перебрать разные параметры в модели:"
   ]
  },
  {
   "cell_type": "code",
   "execution_count": 19,
   "metadata": {},
   "outputs": [
    {
     "name": "stdout",
     "output_type": "stream",
     "text": [
      "CPU times: user 3min 25s, sys: 4min 6s, total: 7min 32s\n",
      "Wall time: 7min 32s\n"
     ]
    },
    {
     "data": {
      "text/plain": [
       "GridSearchCV(cv=3, estimator=LogisticRegression(class_weight='balanced'),\n",
       "             n_jobs=-1,\n",
       "             param_grid={'C': [10, 20, 30], 'penalty': ['l1', 'l2']})"
      ]
     },
     "execution_count": 19,
     "metadata": {},
     "output_type": "execute_result"
    }
   ],
   "source": [
    "%%time\n",
    "grid_params = {'C': [10, 20, 30], 'penalty': ['l1', 'l2']}\n",
    "\n",
    "model_lr = GridSearchCV(model, \n",
    "                        cv=cv_param,\n",
    "                        param_grid=grid_params,\n",
    "                        n_jobs=-1)\n",
    "\n",
    "model_lr.fit(X_train, y_train)"
   ]
  },
  {
   "cell_type": "code",
   "execution_count": 20,
   "metadata": {},
   "outputs": [
    {
     "data": {
      "text/plain": [
       "LogisticRegression(C=20, class_weight='balanced')"
      ]
     },
     "execution_count": 20,
     "metadata": {},
     "output_type": "execute_result"
    }
   ],
   "source": [
    "model_lr.best_estimator_"
   ]
  },
  {
   "cell_type": "code",
   "execution_count": 21,
   "metadata": {},
   "outputs": [
    {
     "data": {
      "text/plain": [
       "0.7643349464730899"
      ]
     },
     "execution_count": 21,
     "metadata": {},
     "output_type": "execute_result"
    }
   ],
   "source": [
    "pred = model_lr.predict(X_valid)\n",
    "f1_valid = f1_score(y_valid, pred)\n",
    "f1_valid"
   ]
  },
  {
   "cell_type": "markdown",
   "metadata": {},
   "source": [
    "Посмотрим, как с задачей справится LGBMClassifier:"
   ]
  },
  {
   "cell_type": "code",
   "execution_count": 22,
   "metadata": {
    "scrolled": false
   },
   "outputs": [
    {
     "name": "stdout",
     "output_type": "stream",
     "text": [
      "Fitting 3 folds for each of 4 candidates, totalling 12 fits\n",
      "[CV 1/3; 1/4] START max_depth=5, n_estimators=1000..............................\n",
      "[CV 1/3; 1/4] END ............max_depth=5, n_estimators=1000; total time= 4.8min\n",
      "[CV 2/3; 1/4] START max_depth=5, n_estimators=1000..............................\n",
      "[CV 2/3; 1/4] END ............max_depth=5, n_estimators=1000; total time= 4.2min\n",
      "[CV 3/3; 1/4] START max_depth=5, n_estimators=1000..............................\n",
      "[CV 3/3; 1/4] END ............max_depth=5, n_estimators=1000; total time= 4.7min\n",
      "[CV 1/3; 2/4] START max_depth=5, n_estimators=1500..............................\n",
      "[CV 1/3; 2/4] END ............max_depth=5, n_estimators=1500; total time= 4.4min\n",
      "[CV 2/3; 2/4] START max_depth=5, n_estimators=1500..............................\n",
      "[CV 2/3; 2/4] END ............max_depth=5, n_estimators=1500; total time= 4.0min\n",
      "[CV 3/3; 2/4] START max_depth=5, n_estimators=1500..............................\n",
      "[CV 3/3; 2/4] END ............max_depth=5, n_estimators=1500; total time= 3.7min\n",
      "[CV 1/3; 3/4] START max_depth=9, n_estimators=1000..............................\n",
      "[CV 1/3; 3/4] END ............max_depth=9, n_estimators=1000; total time= 4.6min\n",
      "[CV 2/3; 3/4] START max_depth=9, n_estimators=1000..............................\n",
      "[CV 2/3; 3/4] END ............max_depth=9, n_estimators=1000; total time= 4.7min\n",
      "[CV 3/3; 3/4] START max_depth=9, n_estimators=1000..............................\n",
      "[CV 3/3; 3/4] END ............max_depth=9, n_estimators=1000; total time= 5.4min\n",
      "[CV 1/3; 4/4] START max_depth=9, n_estimators=1500..............................\n",
      "[CV 1/3; 4/4] END ............max_depth=9, n_estimators=1500; total time= 6.5min\n",
      "[CV 2/3; 4/4] START max_depth=9, n_estimators=1500..............................\n",
      "[CV 2/3; 4/4] END ............max_depth=9, n_estimators=1500; total time= 5.0min\n",
      "[CV 3/3; 4/4] START max_depth=9, n_estimators=1500..............................\n",
      "[CV 3/3; 4/4] END ............max_depth=9, n_estimators=1500; total time= 4.8min\n",
      "CPU times: user 1h 2min 27s, sys: 40.3 s, total: 1h 3min 7s\n",
      "Wall time: 1h 3min 31s\n"
     ]
    },
    {
     "data": {
      "text/plain": [
       "GridSearchCV(cv=3, estimator=LGBMClassifier(), n_jobs=-1,\n",
       "             param_grid={'max_depth': [5, 9], 'n_estimators': [1000, 1500]},\n",
       "             verbose=10)"
      ]
     },
     "execution_count": 22,
     "metadata": {},
     "output_type": "execute_result"
    }
   ],
   "source": [
    "%%time\n",
    "model_l = LGBMClassifier()\n",
    "grid_params = {'n_estimators': [1000, 1500], 'max_depth': [5, 9]}\n",
    "\n",
    "model_lgbm = GridSearchCV(model_l, \n",
    "                          cv=cv_param,\n",
    "                          param_grid=grid_params,\n",
    "                          n_jobs=-1,\n",
    "                          verbose=10)\n",
    "\n",
    "model_lgbm.fit(X_train, y_train)"
   ]
  },
  {
   "cell_type": "code",
   "execution_count": 23,
   "metadata": {},
   "outputs": [
    {
     "data": {
      "text/plain": [
       "LGBMClassifier(max_depth=9, n_estimators=1500)"
      ]
     },
     "execution_count": 23,
     "metadata": {},
     "output_type": "execute_result"
    }
   ],
   "source": [
    "model_lgbm.best_estimator_"
   ]
  },
  {
   "cell_type": "code",
   "execution_count": 24,
   "metadata": {},
   "outputs": [
    {
     "data": {
      "text/plain": [
       "0.7679073033707866"
      ]
     },
     "execution_count": 24,
     "metadata": {},
     "output_type": "execute_result"
    }
   ],
   "source": [
    "pred = model_lgbm.predict(X_valid)\n",
    "f1_valid = f1_score(y_valid, pred)\n",
    "f1_valid"
   ]
  },
  {
   "cell_type": "markdown",
   "metadata": {},
   "source": [
    "С параметром С = 50 логистическая регрессия укладывается в необходимую границу f1. Но LGBMClassifier с параметрами: max_depth=9 и n_estimators=1500 оказался немного получше (f1 на валидационной выборке 0.768) при этом сильно медленнее. Ввиду высокой вычислительной сложности задачи (даже логистической регресси потребовалось больше минуты времени) и удовлетворительного значения f1, проверять другие модели не станем. Посмотрим f1 на тестовой выборке:"
   ]
  },
  {
   "cell_type": "code",
   "execution_count": 25,
   "metadata": {},
   "outputs": [
    {
     "data": {
      "text/plain": [
       "0.7772593744599965"
      ]
     },
     "execution_count": 25,
     "metadata": {},
     "output_type": "execute_result"
    }
   ],
   "source": [
    "pred = model_lgbm.predict(X_test)\n",
    "f1_test = f1_score(y_test, pred)\n",
    "f1_test"
   ]
  },
  {
   "cell_type": "markdown",
   "metadata": {},
   "source": [
    "## Выводы"
   ]
  },
  {
   "cell_type": "markdown",
   "metadata": {},
   "source": [
    "Загруженные данные содержат 159 тыс. отзывов. Большинство из них положительные. Данные комментарии были очищены от лишних символов и лемматизированы для моделирования. Пропуски и дубликаты в данных отсутствуют.\n",
    "<br>Для определения негативных / позитивных комментариев были использованы логистическая регрессия и LGBMClassifier. Лучше оказалась LGBMClassifier с параметрами: max_depth=9 и n_estimators=1500. Метрика F1 на тестовой выборке для нее составила 0.777. Ввиду хорошего результата по данной модели, прочие модели не рассматривались в работе с целью сокращения времени обучения (даже логистической регрессии потребовалось более минуты времени для обучения)."
   ]
  },
  {
   "cell_type": "code",
   "execution_count": null,
   "metadata": {},
   "outputs": [],
   "source": []
  }
 ],
 "metadata": {
  "ExecuteTimeLog": [
   {
    "duration": 1815,
    "start_time": "2025-05-09T06:14:49.544Z"
   },
   {
    "duration": 5,
    "start_time": "2025-05-09T06:14:52.785Z"
   },
   {
    "duration": 962,
    "start_time": "2025-05-09T06:14:53.489Z"
   },
   {
    "duration": 308,
    "start_time": "2025-05-09T06:14:56.721Z"
   },
   {
    "duration": 7,
    "start_time": "2025-05-09T06:15:38.530Z"
   },
   {
    "duration": 6,
    "start_time": "2025-05-09T06:17:46.098Z"
   },
   {
    "duration": 903,
    "start_time": "2025-05-09T06:28:32.321Z"
   },
   {
    "duration": 4,
    "start_time": "2025-05-09T06:30:02.132Z"
   },
   {
    "duration": 135,
    "start_time": "2025-05-09T06:30:03.900Z"
   },
   {
    "duration": 5,
    "start_time": "2025-05-09T06:30:11.224Z"
   },
   {
    "duration": 3,
    "start_time": "2025-05-09T06:30:14.710Z"
   },
   {
    "duration": 692,
    "start_time": "2025-05-09T06:30:15.289Z"
   },
   {
    "duration": 16,
    "start_time": "2025-05-09T06:30:19.804Z"
   },
   {
    "duration": 70,
    "start_time": "2025-05-09T06:30:45.746Z"
   },
   {
    "duration": 30,
    "start_time": "2025-05-09T06:31:25.027Z"
   },
   {
    "duration": 16,
    "start_time": "2025-05-09T06:31:42.151Z"
   },
   {
    "duration": 15,
    "start_time": "2025-05-09T06:33:22.594Z"
   },
   {
    "duration": 1675,
    "start_time": "2025-05-09T06:35:00.116Z"
   },
   {
    "duration": 4,
    "start_time": "2025-05-09T06:35:01.793Z"
   },
   {
    "duration": 87,
    "start_time": "2025-05-09T06:35:01.799Z"
   },
   {
    "duration": 958,
    "start_time": "2025-05-09T06:35:01.887Z"
   },
   {
    "duration": 340,
    "start_time": "2025-05-09T06:35:02.852Z"
   },
   {
    "duration": 8,
    "start_time": "2025-05-09T06:35:03.194Z"
   },
   {
    "duration": 11,
    "start_time": "2025-05-09T06:35:03.203Z"
   },
   {
    "duration": 7807,
    "start_time": "2025-05-09T06:35:03.215Z"
   },
   {
    "duration": 11,
    "start_time": "2025-05-09T06:35:20.885Z"
   },
   {
    "duration": 8,
    "start_time": "2025-05-09T06:37:10.210Z"
   },
   {
    "duration": 1448,
    "start_time": "2025-05-09T06:37:59.458Z"
   },
   {
    "duration": 11,
    "start_time": "2025-05-09T06:38:01.627Z"
   },
   {
    "duration": 1639,
    "start_time": "2025-05-09T06:38:11.925Z"
   },
   {
    "duration": 4,
    "start_time": "2025-05-09T06:38:13.566Z"
   },
   {
    "duration": 86,
    "start_time": "2025-05-09T06:38:13.572Z"
   },
   {
    "duration": 943,
    "start_time": "2025-05-09T06:38:13.660Z"
   },
   {
    "duration": 322,
    "start_time": "2025-05-09T06:38:14.605Z"
   },
   {
    "duration": 16,
    "start_time": "2025-05-09T06:38:14.929Z"
   },
   {
    "duration": 8,
    "start_time": "2025-05-09T06:38:14.947Z"
   },
   {
    "duration": 7602,
    "start_time": "2025-05-09T06:38:14.957Z"
   },
   {
    "duration": 7,
    "start_time": "2025-05-09T06:38:22.560Z"
   },
   {
    "duration": 183,
    "start_time": "2025-05-09T06:38:22.569Z"
   },
   {
    "duration": 49,
    "start_time": "2025-05-09T06:42:03.544Z"
   },
   {
    "duration": 1416,
    "start_time": "2025-05-09T06:42:05.213Z"
   },
   {
    "duration": 1051,
    "start_time": "2025-05-09T06:42:48.198Z"
   },
   {
    "duration": 5,
    "start_time": "2025-05-09T06:43:05.053Z"
   },
   {
    "duration": 5,
    "start_time": "2025-05-09T06:43:36.962Z"
   },
   {
    "duration": 1569,
    "start_time": "2025-05-09T06:44:07.229Z"
   },
   {
    "duration": 5,
    "start_time": "2025-05-09T06:44:08.800Z"
   },
   {
    "duration": 81,
    "start_time": "2025-05-09T06:44:08.806Z"
   },
   {
    "duration": 903,
    "start_time": "2025-05-09T06:44:08.889Z"
   },
   {
    "duration": 321,
    "start_time": "2025-05-09T06:44:09.795Z"
   },
   {
    "duration": 7,
    "start_time": "2025-05-09T06:44:10.118Z"
   },
   {
    "duration": 14,
    "start_time": "2025-05-09T06:44:10.135Z"
   },
   {
    "duration": 7740,
    "start_time": "2025-05-09T06:44:10.151Z"
   },
   {
    "duration": 7,
    "start_time": "2025-05-09T06:44:17.893Z"
   },
   {
    "duration": 63,
    "start_time": "2025-05-09T06:44:17.901Z"
   },
   {
    "duration": 1317,
    "start_time": "2025-05-09T06:44:17.966Z"
   },
   {
    "duration": 1058,
    "start_time": "2025-05-09T06:44:37.727Z"
   },
   {
    "duration": 4,
    "start_time": "2025-05-09T06:44:53.981Z"
   },
   {
    "duration": 1038,
    "start_time": "2025-05-09T06:44:56.377Z"
   },
   {
    "duration": 52,
    "start_time": "2025-05-09T06:52:47.344Z"
   },
   {
    "duration": 4,
    "start_time": "2025-05-09T06:52:48.636Z"
   },
   {
    "duration": 1348,
    "start_time": "2025-05-09T06:52:48.804Z"
   },
   {
    "duration": 10,
    "start_time": "2025-05-09T06:53:17.153Z"
   },
   {
    "duration": 8,
    "start_time": "2025-05-09T06:53:29.202Z"
   },
   {
    "duration": 52,
    "start_time": "2025-05-09T06:53:56.057Z"
   },
   {
    "duration": 9,
    "start_time": "2025-05-09T06:53:56.266Z"
   },
   {
    "duration": 5,
    "start_time": "2025-05-09T06:54:03.006Z"
   },
   {
    "duration": 11721,
    "start_time": "2025-05-09T06:54:03.198Z"
   },
   {
    "duration": 2106,
    "start_time": "2025-05-09T13:09:57.810Z"
   },
   {
    "duration": 6,
    "start_time": "2025-05-09T13:09:59.919Z"
   },
   {
    "duration": 115,
    "start_time": "2025-05-09T13:09:59.927Z"
   },
   {
    "duration": 1123,
    "start_time": "2025-05-09T13:10:00.044Z"
   },
   {
    "duration": 397,
    "start_time": "2025-05-09T13:10:01.170Z"
   },
   {
    "duration": 9,
    "start_time": "2025-05-09T13:10:01.569Z"
   },
   {
    "duration": 106,
    "start_time": "2025-05-09T13:10:01.580Z"
   },
   {
    "duration": 11,
    "start_time": "2025-05-09T13:10:01.688Z"
   },
   {
    "duration": 8443,
    "start_time": "2025-05-09T13:10:01.701Z"
   },
   {
    "duration": 8,
    "start_time": "2025-05-09T13:10:10.147Z"
   },
   {
    "duration": 79,
    "start_time": "2025-05-09T13:10:10.157Z"
   },
   {
    "duration": 237,
    "start_time": "2025-05-09T13:10:10.238Z"
   },
   {
    "duration": 13351,
    "start_time": "2025-05-09T13:10:10.477Z"
   },
   {
    "duration": 49,
    "start_time": "2025-05-09T13:11:51.521Z"
   },
   {
    "duration": 21,
    "start_time": "2025-05-09T13:11:52.223Z"
   },
   {
    "duration": 14736,
    "start_time": "2025-05-09T13:11:52.740Z"
   },
   {
    "duration": 219,
    "start_time": "2025-05-09T13:13:41.035Z"
   },
   {
    "duration": 62,
    "start_time": "2025-05-09T13:13:49.677Z"
   },
   {
    "duration": 15,
    "start_time": "2025-05-09T13:13:51.824Z"
   },
   {
    "duration": 13238,
    "start_time": "2025-05-09T13:13:52.722Z"
   },
   {
    "duration": 74185,
    "start_time": "2025-05-09T13:16:45.735Z"
   },
   {
    "duration": 192628,
    "start_time": "2025-05-09T13:21:33.681Z"
   },
   {
    "duration": 191484,
    "start_time": "2025-05-09T13:27:20.424Z"
   },
   {
    "duration": 188941,
    "start_time": "2025-05-09T13:47:23.564Z"
   },
   {
    "duration": 34611,
    "start_time": "2025-05-09T13:50:32.508Z"
   },
   {
    "duration": 9,
    "start_time": "2025-05-09T13:51:07.122Z"
   },
   {
    "duration": 23,
    "start_time": "2025-05-09T13:51:07.134Z"
   },
   {
    "duration": 1776,
    "start_time": "2025-05-09T13:53:02.652Z"
   },
   {
    "duration": 5,
    "start_time": "2025-05-09T13:53:04.431Z"
   },
   {
    "duration": 1169,
    "start_time": "2025-05-09T13:53:04.438Z"
   },
   {
    "duration": 396,
    "start_time": "2025-05-09T13:53:05.610Z"
   },
   {
    "duration": 9,
    "start_time": "2025-05-09T13:53:06.008Z"
   },
   {
    "duration": 55,
    "start_time": "2025-05-09T13:53:06.019Z"
   },
   {
    "duration": 20,
    "start_time": "2025-05-09T13:53:06.076Z"
   },
   {
    "duration": 8371,
    "start_time": "2025-05-09T13:53:06.099Z"
   },
   {
    "duration": 9,
    "start_time": "2025-05-09T13:53:14.471Z"
   },
   {
    "duration": 70,
    "start_time": "2025-05-09T13:53:14.483Z"
   },
   {
    "duration": 133,
    "start_time": "2025-05-09T13:53:14.555Z"
   },
   {
    "duration": 13115,
    "start_time": "2025-05-09T13:53:14.689Z"
   },
   {
    "duration": 187407,
    "start_time": "2025-05-09T13:53:27.806Z"
   },
   {
    "duration": 96098,
    "start_time": "2025-05-09T13:56:35.216Z"
   },
   {
    "duration": 47491,
    "start_time": "2025-05-09T13:58:11.317Z"
   },
   {
    "duration": 9,
    "start_time": "2025-05-09T13:58:58.810Z"
   },
   {
    "duration": 55,
    "start_time": "2025-05-09T13:58:58.821Z"
   },
   {
    "duration": 157974,
    "start_time": "2025-05-09T13:59:27.238Z"
   },
   {
    "duration": 297596,
    "start_time": "2025-05-09T14:09:58.059Z"
   },
   {
    "duration": 0,
    "start_time": "2025-05-09T14:14:55.657Z"
   },
   {
    "duration": 1938,
    "start_time": "2025-05-09T14:15:06.607Z"
   },
   {
    "duration": 4,
    "start_time": "2025-05-09T14:15:08.549Z"
   },
   {
    "duration": 1182,
    "start_time": "2025-05-09T14:15:08.555Z"
   },
   {
    "duration": 379,
    "start_time": "2025-05-09T14:15:09.741Z"
   },
   {
    "duration": 8,
    "start_time": "2025-05-09T14:15:10.122Z"
   },
   {
    "duration": 23,
    "start_time": "2025-05-09T14:15:10.132Z"
   },
   {
    "duration": 34,
    "start_time": "2025-05-09T14:15:10.157Z"
   },
   {
    "duration": 8276,
    "start_time": "2025-05-09T14:15:10.193Z"
   },
   {
    "duration": 11,
    "start_time": "2025-05-09T14:15:18.472Z"
   },
   {
    "duration": 186,
    "start_time": "2025-05-09T14:15:18.487Z"
   },
   {
    "duration": 0,
    "start_time": "2025-05-09T14:15:18.675Z"
   },
   {
    "duration": 0,
    "start_time": "2025-05-09T14:15:18.677Z"
   },
   {
    "duration": 0,
    "start_time": "2025-05-09T14:15:18.678Z"
   },
   {
    "duration": 0,
    "start_time": "2025-05-09T14:15:18.679Z"
   },
   {
    "duration": 0,
    "start_time": "2025-05-09T14:15:18.680Z"
   },
   {
    "duration": 0,
    "start_time": "2025-05-09T14:15:18.682Z"
   },
   {
    "duration": 0,
    "start_time": "2025-05-09T14:15:18.683Z"
   },
   {
    "duration": 0,
    "start_time": "2025-05-09T14:15:18.684Z"
   },
   {
    "duration": 0,
    "start_time": "2025-05-09T14:15:18.685Z"
   },
   {
    "duration": 28,
    "start_time": "2025-05-09T14:16:10.036Z"
   },
   {
    "duration": 129,
    "start_time": "2025-05-09T14:19:47.225Z"
   },
   {
    "duration": 182,
    "start_time": "2025-05-09T14:19:51.287Z"
   },
   {
    "duration": 13393,
    "start_time": "2025-05-09T14:19:51.471Z"
   },
   {
    "duration": 100650,
    "start_time": "2025-05-09T14:20:04.866Z"
   },
   {
    "duration": 74495,
    "start_time": "2025-05-09T14:21:45.518Z"
   },
   {
    "duration": 632300,
    "start_time": "2025-05-09T14:23:00.016Z"
   },
   {
    "duration": 0,
    "start_time": "2025-05-09T14:33:32.319Z"
   },
   {
    "duration": 1852,
    "start_time": "2025-05-09T14:34:14.714Z"
   },
   {
    "duration": 5,
    "start_time": "2025-05-09T14:34:16.568Z"
   },
   {
    "duration": 1201,
    "start_time": "2025-05-09T14:34:16.575Z"
   },
   {
    "duration": 388,
    "start_time": "2025-05-09T14:34:17.779Z"
   },
   {
    "duration": 9,
    "start_time": "2025-05-09T14:34:18.170Z"
   },
   {
    "duration": 45,
    "start_time": "2025-05-09T14:34:18.181Z"
   },
   {
    "duration": 11,
    "start_time": "2025-05-09T14:34:18.228Z"
   },
   {
    "duration": 8777,
    "start_time": "2025-05-09T14:34:18.242Z"
   },
   {
    "duration": 8,
    "start_time": "2025-05-09T14:34:27.022Z"
   },
   {
    "duration": 159,
    "start_time": "2025-05-09T14:34:27.034Z"
   },
   {
    "duration": 216,
    "start_time": "2025-05-09T14:34:27.194Z"
   },
   {
    "duration": 14449,
    "start_time": "2025-05-09T14:34:27.415Z"
   },
   {
    "duration": 90975,
    "start_time": "2025-05-09T14:34:41.866Z"
   },
   {
    "duration": 73297,
    "start_time": "2025-05-09T14:36:12.844Z"
   },
   {
    "duration": 104,
    "start_time": "2025-05-09T14:37:26.143Z"
   },
   {
    "duration": 0,
    "start_time": "2025-05-09T14:37:26.249Z"
   },
   {
    "duration": 0,
    "start_time": "2025-05-09T14:37:26.250Z"
   },
   {
    "duration": 0,
    "start_time": "2025-05-09T14:37:26.252Z"
   },
   {
    "duration": 0,
    "start_time": "2025-05-09T14:37:26.255Z"
   },
   {
    "duration": 0,
    "start_time": "2025-05-09T14:37:26.256Z"
   },
   {
    "duration": 0,
    "start_time": "2025-05-09T14:37:26.258Z"
   },
   {
    "duration": 4,
    "start_time": "2025-05-09T14:38:03.691Z"
   },
   {
    "duration": 214,
    "start_time": "2025-05-09T14:38:05.582Z"
   },
   {
    "duration": 484558,
    "start_time": "2025-05-09T14:38:17.047Z"
   },
   {
    "duration": 5,
    "start_time": "2025-05-09T14:46:21.608Z"
   },
   {
    "duration": 24,
    "start_time": "2025-05-09T14:46:21.614Z"
   },
   {
    "duration": 5,
    "start_time": "2025-05-09T14:46:51.076Z"
   },
   {
    "duration": 1733,
    "start_time": "2025-05-09T14:47:44.109Z"
   },
   {
    "duration": 4,
    "start_time": "2025-05-09T14:47:45.844Z"
   },
   {
    "duration": 1123,
    "start_time": "2025-05-09T14:47:45.850Z"
   },
   {
    "duration": 374,
    "start_time": "2025-05-09T14:47:46.975Z"
   },
   {
    "duration": 8,
    "start_time": "2025-05-09T14:47:47.351Z"
   },
   {
    "duration": 37,
    "start_time": "2025-05-09T14:47:47.361Z"
   },
   {
    "duration": 35,
    "start_time": "2025-05-09T14:47:47.400Z"
   },
   {
    "duration": 8144,
    "start_time": "2025-05-09T14:47:47.438Z"
   },
   {
    "duration": 9,
    "start_time": "2025-05-09T14:47:55.584Z"
   },
   {
    "duration": 170,
    "start_time": "2025-05-09T14:47:55.606Z"
   },
   {
    "duration": 148,
    "start_time": "2025-05-09T14:47:55.777Z"
   },
   {
    "duration": 14464,
    "start_time": "2025-05-09T14:47:55.927Z"
   },
   {
    "duration": 104042,
    "start_time": "2025-05-09T14:48:10.392Z"
   },
   {
    "duration": 73412,
    "start_time": "2025-05-09T14:49:54.505Z"
   },
   {
    "duration": 460386,
    "start_time": "2025-05-09T14:51:07.920Z"
   },
   {
    "duration": 7,
    "start_time": "2025-05-09T14:58:48.309Z"
   },
   {
    "duration": 86,
    "start_time": "2025-05-09T14:58:48.318Z"
   },
   {
    "duration": 203,
    "start_time": "2025-05-09T15:02:17.580Z"
   },
   {
    "duration": 3,
    "start_time": "2025-05-09T15:02:24.459Z"
   },
   {
    "duration": 45,
    "start_time": "2025-05-09T15:02:29.210Z"
   },
   {
    "duration": 44,
    "start_time": "2025-05-09T15:02:39.397Z"
   },
   {
    "duration": 73386,
    "start_time": "2025-05-09T15:02:54.128Z"
   },
   {
    "duration": 74178,
    "start_time": "2025-05-09T15:05:39.949Z"
   },
   {
    "duration": 51,
    "start_time": "2025-05-09T15:07:31.987Z"
   },
   {
    "duration": 414385,
    "start_time": "2025-05-09T15:11:47.694Z"
   },
   {
    "duration": 0,
    "start_time": "2025-05-09T15:18:42.081Z"
   },
   {
    "duration": 0,
    "start_time": "2025-05-09T15:18:42.083Z"
   },
   {
    "duration": 424256,
    "start_time": "2025-05-09T15:18:43.771Z"
   },
   {
    "duration": 0,
    "start_time": "2025-05-09T15:25:48.029Z"
   },
   {
    "duration": 0,
    "start_time": "2025-05-09T15:25:48.031Z"
   },
   {
    "duration": 17537,
    "start_time": "2025-05-09T15:25:55.748Z"
   },
   {
    "duration": 1772,
    "start_time": "2025-05-09T15:27:04.555Z"
   },
   {
    "duration": 4,
    "start_time": "2025-05-09T15:27:06.329Z"
   },
   {
    "duration": 6,
    "start_time": "2025-05-09T15:27:06.335Z"
   },
   {
    "duration": 1135,
    "start_time": "2025-05-09T15:27:06.343Z"
   },
   {
    "duration": 411,
    "start_time": "2025-05-09T15:27:07.488Z"
   },
   {
    "duration": 11,
    "start_time": "2025-05-09T15:27:07.905Z"
   },
   {
    "duration": 22,
    "start_time": "2025-05-09T15:27:07.918Z"
   },
   {
    "duration": 28,
    "start_time": "2025-05-09T15:27:07.942Z"
   },
   {
    "duration": 8510,
    "start_time": "2025-05-09T15:27:07.973Z"
   },
   {
    "duration": 19,
    "start_time": "2025-05-09T15:27:16.485Z"
   },
   {
    "duration": 182,
    "start_time": "2025-05-09T15:27:16.506Z"
   },
   {
    "duration": 224,
    "start_time": "2025-05-09T15:27:16.691Z"
   },
   {
    "duration": 13361,
    "start_time": "2025-05-09T15:27:16.917Z"
   },
   {
    "duration": 102747,
    "start_time": "2025-05-09T15:27:30.282Z"
   },
   {
    "duration": 78575,
    "start_time": "2025-05-09T15:29:13.032Z"
   },
   {
    "duration": 474505,
    "start_time": "2025-05-09T15:30:31.609Z"
   },
   {
    "duration": 8,
    "start_time": "2025-05-09T15:38:26.116Z"
   },
   {
    "duration": 103,
    "start_time": "2025-05-09T15:38:26.126Z"
   },
   {
    "duration": 1821,
    "start_time": "2025-05-09T15:55:34.683Z"
   },
   {
    "duration": 3,
    "start_time": "2025-05-09T15:55:36.506Z"
   },
   {
    "duration": 26,
    "start_time": "2025-05-09T15:55:36.510Z"
   },
   {
    "duration": 1167,
    "start_time": "2025-05-09T15:55:36.540Z"
   },
   {
    "duration": 376,
    "start_time": "2025-05-09T15:55:37.709Z"
   },
   {
    "duration": 17,
    "start_time": "2025-05-09T15:55:38.087Z"
   },
   {
    "duration": 18,
    "start_time": "2025-05-09T15:55:38.107Z"
   },
   {
    "duration": 9,
    "start_time": "2025-05-09T15:55:38.128Z"
   },
   {
    "duration": 8490,
    "start_time": "2025-05-09T15:55:38.139Z"
   },
   {
    "duration": 8,
    "start_time": "2025-05-09T15:55:46.632Z"
   },
   {
    "duration": 161,
    "start_time": "2025-05-09T15:55:46.642Z"
   },
   {
    "duration": 207,
    "start_time": "2025-05-09T15:55:46.805Z"
   },
   {
    "duration": 13705,
    "start_time": "2025-05-09T15:55:47.014Z"
   },
   {
    "duration": 97202,
    "start_time": "2025-05-09T15:56:00.722Z"
   },
   {
    "duration": 69903,
    "start_time": "2025-05-09T15:57:37.927Z"
   },
   {
    "duration": 438274,
    "start_time": "2025-05-09T15:58:47.832Z"
   },
   {
    "duration": 7,
    "start_time": "2025-05-09T16:06:06.108Z"
   },
   {
    "duration": 27,
    "start_time": "2025-05-09T16:06:06.117Z"
   },
   {
    "duration": 1421,
    "start_time": "2025-05-10T06:34:36.774Z"
   },
   {
    "duration": 2,
    "start_time": "2025-05-10T06:34:38.197Z"
   },
   {
    "duration": 5,
    "start_time": "2025-05-10T06:34:38.201Z"
   },
   {
    "duration": 1043,
    "start_time": "2025-05-10T06:34:38.207Z"
   },
   {
    "duration": 354,
    "start_time": "2025-05-10T06:34:39.253Z"
   },
   {
    "duration": 6,
    "start_time": "2025-05-10T06:34:39.609Z"
   },
   {
    "duration": 24,
    "start_time": "2025-05-10T06:34:39.616Z"
   },
   {
    "duration": 5,
    "start_time": "2025-05-10T06:34:39.642Z"
   },
   {
    "duration": 1709,
    "start_time": "2025-05-10T06:34:39.648Z"
   },
   {
    "duration": 0,
    "start_time": "2025-05-10T06:34:41.359Z"
   },
   {
    "duration": 0,
    "start_time": "2025-05-10T06:34:41.360Z"
   },
   {
    "duration": 0,
    "start_time": "2025-05-10T06:34:41.362Z"
   },
   {
    "duration": 0,
    "start_time": "2025-05-10T06:34:41.363Z"
   },
   {
    "duration": 0,
    "start_time": "2025-05-10T06:34:41.364Z"
   },
   {
    "duration": 0,
    "start_time": "2025-05-10T06:34:41.365Z"
   },
   {
    "duration": 0,
    "start_time": "2025-05-10T06:34:41.366Z"
   },
   {
    "duration": 0,
    "start_time": "2025-05-10T06:34:41.367Z"
   },
   {
    "duration": 0,
    "start_time": "2025-05-10T06:34:41.367Z"
   },
   {
    "duration": 1350,
    "start_time": "2025-05-10T06:35:08.911Z"
   },
   {
    "duration": 3,
    "start_time": "2025-05-10T06:35:10.263Z"
   },
   {
    "duration": 16,
    "start_time": "2025-05-10T06:35:10.268Z"
   },
   {
    "duration": 1022,
    "start_time": "2025-05-10T06:35:10.286Z"
   },
   {
    "duration": 351,
    "start_time": "2025-05-10T06:35:11.310Z"
   },
   {
    "duration": 7,
    "start_time": "2025-05-10T06:35:11.663Z"
   },
   {
    "duration": 12,
    "start_time": "2025-05-10T06:35:11.671Z"
   },
   {
    "duration": 8,
    "start_time": "2025-05-10T06:35:11.684Z"
   },
   {
    "duration": 7287,
    "start_time": "2025-05-10T06:35:11.693Z"
   },
   {
    "duration": 8,
    "start_time": "2025-05-10T06:35:18.982Z"
   },
   {
    "duration": 129,
    "start_time": "2025-05-10T06:35:18.991Z"
   },
   {
    "duration": 316,
    "start_time": "2025-05-10T06:35:19.122Z"
   },
   {
    "duration": 12023,
    "start_time": "2025-05-10T06:35:19.440Z"
   },
   {
    "duration": 91076,
    "start_time": "2025-05-10T06:35:31.465Z"
   },
   {
    "duration": 67012,
    "start_time": "2025-05-10T06:37:02.542Z"
   },
   {
    "duration": 404388,
    "start_time": "2025-05-10T06:38:09.556Z"
   },
   {
    "duration": 91,
    "start_time": "2025-05-10T06:44:53.948Z"
   },
   {
    "duration": 19,
    "start_time": "2025-05-10T06:44:54.041Z"
   },
   {
    "duration": 17,
    "start_time": "2025-05-10T06:45:02.208Z"
   },
   {
    "duration": 1294,
    "start_time": "2025-05-10T06:47:47.658Z"
   },
   {
    "duration": 2,
    "start_time": "2025-05-10T06:47:48.954Z"
   },
   {
    "duration": 15,
    "start_time": "2025-05-10T06:47:48.957Z"
   },
   {
    "duration": 994,
    "start_time": "2025-05-10T06:47:48.974Z"
   },
   {
    "duration": 348,
    "start_time": "2025-05-10T06:47:49.970Z"
   },
   {
    "duration": 7,
    "start_time": "2025-05-10T06:47:50.320Z"
   },
   {
    "duration": 16,
    "start_time": "2025-05-10T06:47:50.328Z"
   },
   {
    "duration": 32,
    "start_time": "2025-05-10T06:47:50.346Z"
   },
   {
    "duration": 7182,
    "start_time": "2025-05-10T06:47:50.379Z"
   },
   {
    "duration": 6,
    "start_time": "2025-05-10T06:47:57.564Z"
   },
   {
    "duration": 168,
    "start_time": "2025-05-10T06:47:57.572Z"
   },
   {
    "duration": 143,
    "start_time": "2025-05-10T06:47:57.742Z"
   },
   {
    "duration": 11938,
    "start_time": "2025-05-10T06:47:57.888Z"
   },
   {
    "duration": 91113,
    "start_time": "2025-05-10T06:48:09.828Z"
   },
   {
    "duration": 66405,
    "start_time": "2025-05-10T06:49:40.944Z"
   },
   {
    "duration": 541195,
    "start_time": "2025-05-10T06:50:47.352Z"
   },
   {
    "duration": 5,
    "start_time": "2025-05-10T06:59:48.549Z"
   },
   {
    "duration": 18,
    "start_time": "2025-05-10T06:59:48.640Z"
   },
   {
    "duration": 18,
    "start_time": "2025-05-10T06:59:48.660Z"
   },
   {
    "duration": 66337,
    "start_time": "2025-05-10T07:01:19.913Z"
   },
   {
    "duration": 533890,
    "start_time": "2025-05-10T07:02:26.253Z"
   },
   {
    "duration": 96,
    "start_time": "2025-05-10T07:11:20.145Z"
   },
   {
    "duration": 40,
    "start_time": "2025-05-10T07:11:20.243Z"
   },
   {
    "duration": 17,
    "start_time": "2025-05-10T07:11:20.285Z"
   },
   {
    "duration": 1271,
    "start_time": "2025-05-10T07:12:47.587Z"
   },
   {
    "duration": 3,
    "start_time": "2025-05-10T07:12:48.859Z"
   },
   {
    "duration": 40,
    "start_time": "2025-05-10T07:12:48.863Z"
   },
   {
    "duration": 1024,
    "start_time": "2025-05-10T07:12:48.905Z"
   },
   {
    "duration": 356,
    "start_time": "2025-05-10T07:12:49.930Z"
   },
   {
    "duration": 7,
    "start_time": "2025-05-10T07:12:50.288Z"
   },
   {
    "duration": 46,
    "start_time": "2025-05-10T07:12:50.297Z"
   },
   {
    "duration": 36,
    "start_time": "2025-05-10T07:12:50.345Z"
   },
   {
    "duration": 7296,
    "start_time": "2025-05-10T07:12:50.383Z"
   },
   {
    "duration": 7,
    "start_time": "2025-05-10T07:12:57.682Z"
   },
   {
    "duration": 158,
    "start_time": "2025-05-10T07:12:57.691Z"
   },
   {
    "duration": 201,
    "start_time": "2025-05-10T07:12:57.852Z"
   },
   {
    "duration": 11992,
    "start_time": "2025-05-10T07:12:58.055Z"
   },
   {
    "duration": 91596,
    "start_time": "2025-05-10T07:13:10.049Z"
   },
   {
    "duration": 66707,
    "start_time": "2025-05-10T07:14:41.647Z"
   },
   {
    "duration": 18,
    "start_time": "2025-05-10T09:13:19.522Z"
   },
   {
    "duration": 3730,
    "start_time": "2025-05-11T10:22:46.406Z"
   },
   {
    "duration": 287,
    "start_time": "2025-05-11T10:29:24.102Z"
   },
   {
    "duration": 460,
    "start_time": "2025-05-11T10:29:29.436Z"
   },
   {
    "duration": 9,
    "start_time": "2025-05-11T10:29:33.496Z"
   },
   {
    "duration": 61,
    "start_time": "2025-05-11T10:29:38.513Z"
   },
   {
    "duration": 3,
    "start_time": "2025-05-11T10:29:58.851Z"
   },
   {
    "duration": 401,
    "start_time": "2025-05-11T10:30:19.831Z"
   },
   {
    "duration": 4,
    "start_time": "2025-05-11T10:30:47.292Z"
   },
   {
    "duration": 5,
    "start_time": "2025-05-11T10:30:48.992Z"
   },
   {
    "duration": 1245,
    "start_time": "2025-05-11T10:30:49.234Z"
   },
   {
    "duration": 416,
    "start_time": "2025-05-11T10:36:51.781Z"
   },
   {
    "duration": 4,
    "start_time": "2025-05-11T10:37:08.688Z"
   },
   {
    "duration": 6,
    "start_time": "2025-05-11T10:37:16.892Z"
   },
   {
    "duration": 10,
    "start_time": "2025-05-11T10:37:22.992Z"
   },
   {
    "duration": 5,
    "start_time": "2025-05-11T10:37:50.129Z"
   },
   {
    "duration": 982,
    "start_time": "2025-05-11T10:37:53.023Z"
   },
   {
    "duration": 19,
    "start_time": "2025-05-11T10:39:23.405Z"
   },
   {
    "duration": 497,
    "start_time": "2025-05-11T10:39:34.606Z"
   },
   {
    "duration": 20,
    "start_time": "2025-05-11T10:39:35.747Z"
   },
   {
    "duration": 488,
    "start_time": "2025-05-11T10:39:42.295Z"
   },
   {
    "duration": 20,
    "start_time": "2025-05-11T10:39:43.941Z"
   },
   {
    "duration": 3,
    "start_time": "2025-05-11T10:40:48.002Z"
   },
   {
    "duration": 4207,
    "start_time": "2025-05-11T10:56:13.482Z"
   },
   {
    "duration": 3,
    "start_time": "2025-05-11T10:56:17.691Z"
   },
   {
    "duration": 223,
    "start_time": "2025-05-11T10:56:17.695Z"
   },
   {
    "duration": 1284,
    "start_time": "2025-05-11T10:56:17.920Z"
   },
   {
    "duration": 350,
    "start_time": "2025-05-11T10:56:19.206Z"
   },
   {
    "duration": 7,
    "start_time": "2025-05-11T10:56:19.561Z"
   },
   {
    "duration": 19,
    "start_time": "2025-05-11T10:56:19.570Z"
   },
   {
    "duration": 8,
    "start_time": "2025-05-11T10:56:19.591Z"
   },
   {
    "duration": 7,
    "start_time": "2025-05-11T10:56:19.601Z"
   },
   {
    "duration": 14,
    "start_time": "2025-05-11T10:56:19.611Z"
   },
   {
    "duration": 895,
    "start_time": "2025-05-11T10:56:19.627Z"
   },
   {
    "duration": 0,
    "start_time": "2025-05-11T10:56:20.523Z"
   },
   {
    "duration": 0,
    "start_time": "2025-05-11T10:56:20.524Z"
   },
   {
    "duration": 0,
    "start_time": "2025-05-11T10:56:20.526Z"
   },
   {
    "duration": 0,
    "start_time": "2025-05-11T10:56:20.527Z"
   },
   {
    "duration": 0,
    "start_time": "2025-05-11T10:56:20.528Z"
   },
   {
    "duration": 0,
    "start_time": "2025-05-11T10:56:20.530Z"
   },
   {
    "duration": 0,
    "start_time": "2025-05-11T10:56:20.531Z"
   },
   {
    "duration": 0,
    "start_time": "2025-05-11T10:56:20.532Z"
   },
   {
    "duration": 0,
    "start_time": "2025-05-11T10:56:20.533Z"
   },
   {
    "duration": 0,
    "start_time": "2025-05-11T10:56:20.534Z"
   },
   {
    "duration": 0,
    "start_time": "2025-05-11T10:56:20.535Z"
   },
   {
    "duration": 4082,
    "start_time": "2025-05-11T10:56:57.686Z"
   },
   {
    "duration": 2,
    "start_time": "2025-05-11T10:57:01.770Z"
   },
   {
    "duration": 30,
    "start_time": "2025-05-11T10:57:01.774Z"
   },
   {
    "duration": 1177,
    "start_time": "2025-05-11T10:57:01.807Z"
   },
   {
    "duration": 364,
    "start_time": "2025-05-11T10:57:02.986Z"
   },
   {
    "duration": 13,
    "start_time": "2025-05-11T10:57:03.352Z"
   },
   {
    "duration": 210,
    "start_time": "2025-05-11T10:57:03.367Z"
   },
   {
    "duration": 55,
    "start_time": "2025-05-11T10:57:03.580Z"
   },
   {
    "duration": 9,
    "start_time": "2025-05-11T10:57:03.637Z"
   },
   {
    "duration": 1189985,
    "start_time": "2025-05-11T10:57:03.649Z"
   },
   {
    "duration": 0,
    "start_time": "2025-05-11T11:16:53.636Z"
   },
   {
    "duration": 0,
    "start_time": "2025-05-11T11:16:53.637Z"
   },
   {
    "duration": 0,
    "start_time": "2025-05-11T11:16:53.638Z"
   },
   {
    "duration": 0,
    "start_time": "2025-05-11T11:16:53.639Z"
   },
   {
    "duration": 0,
    "start_time": "2025-05-11T11:16:53.640Z"
   },
   {
    "duration": 0,
    "start_time": "2025-05-11T11:16:53.642Z"
   },
   {
    "duration": 0,
    "start_time": "2025-05-11T11:16:53.643Z"
   },
   {
    "duration": 0,
    "start_time": "2025-05-11T11:16:53.644Z"
   },
   {
    "duration": 0,
    "start_time": "2025-05-11T11:16:53.645Z"
   },
   {
    "duration": 0,
    "start_time": "2025-05-11T11:16:53.647Z"
   },
   {
    "duration": 0,
    "start_time": "2025-05-11T11:16:53.648Z"
   },
   {
    "duration": 4425,
    "start_time": "2025-05-11T11:17:55.468Z"
   },
   {
    "duration": 5,
    "start_time": "2025-05-11T11:17:59.895Z"
   },
   {
    "duration": 6,
    "start_time": "2025-05-11T11:17:59.901Z"
   },
   {
    "duration": 1194,
    "start_time": "2025-05-11T11:17:59.911Z"
   },
   {
    "duration": 385,
    "start_time": "2025-05-11T11:18:01.107Z"
   },
   {
    "duration": 13,
    "start_time": "2025-05-11T11:18:01.494Z"
   },
   {
    "duration": 205,
    "start_time": "2025-05-11T11:18:01.509Z"
   },
   {
    "duration": 61,
    "start_time": "2025-05-11T11:18:01.716Z"
   },
   {
    "duration": 325,
    "start_time": "2025-05-11T11:18:01.780Z"
   },
   {
    "duration": 760,
    "start_time": "2025-05-11T11:18:02.108Z"
   },
   {
    "duration": 0,
    "start_time": "2025-05-11T11:18:02.870Z"
   },
   {
    "duration": 0,
    "start_time": "2025-05-11T11:18:02.871Z"
   },
   {
    "duration": 0,
    "start_time": "2025-05-11T11:18:02.873Z"
   },
   {
    "duration": 0,
    "start_time": "2025-05-11T11:18:02.874Z"
   },
   {
    "duration": 0,
    "start_time": "2025-05-11T11:18:02.876Z"
   },
   {
    "duration": 0,
    "start_time": "2025-05-11T11:18:02.878Z"
   },
   {
    "duration": 0,
    "start_time": "2025-05-11T11:18:02.879Z"
   },
   {
    "duration": 0,
    "start_time": "2025-05-11T11:18:02.880Z"
   },
   {
    "duration": 0,
    "start_time": "2025-05-11T11:18:02.881Z"
   },
   {
    "duration": 0,
    "start_time": "2025-05-11T11:18:02.882Z"
   },
   {
    "duration": 0,
    "start_time": "2025-05-11T11:18:02.883Z"
   },
   {
    "duration": 4093,
    "start_time": "2025-05-11T11:19:46.788Z"
   },
   {
    "duration": 3,
    "start_time": "2025-05-11T11:19:50.882Z"
   },
   {
    "duration": 26,
    "start_time": "2025-05-11T11:19:50.886Z"
   },
   {
    "duration": 1141,
    "start_time": "2025-05-11T11:19:50.914Z"
   },
   {
    "duration": 354,
    "start_time": "2025-05-11T11:19:52.061Z"
   },
   {
    "duration": 9,
    "start_time": "2025-05-11T11:19:52.416Z"
   },
   {
    "duration": 49,
    "start_time": "2025-05-11T11:19:52.426Z"
   },
   {
    "duration": 26,
    "start_time": "2025-05-11T11:19:52.477Z"
   },
   {
    "duration": 37,
    "start_time": "2025-05-11T11:19:52.504Z"
   },
   {
    "duration": 889,
    "start_time": "2025-05-11T11:19:52.544Z"
   },
   {
    "duration": 0,
    "start_time": "2025-05-11T11:19:53.434Z"
   },
   {
    "duration": 0,
    "start_time": "2025-05-11T11:19:53.435Z"
   },
   {
    "duration": 0,
    "start_time": "2025-05-11T11:19:53.436Z"
   },
   {
    "duration": 0,
    "start_time": "2025-05-11T11:19:53.437Z"
   },
   {
    "duration": 0,
    "start_time": "2025-05-11T11:19:53.438Z"
   },
   {
    "duration": 0,
    "start_time": "2025-05-11T11:19:53.440Z"
   },
   {
    "duration": 0,
    "start_time": "2025-05-11T11:19:53.441Z"
   },
   {
    "duration": 0,
    "start_time": "2025-05-11T11:19:53.442Z"
   },
   {
    "duration": 0,
    "start_time": "2025-05-11T11:19:53.443Z"
   },
   {
    "duration": 0,
    "start_time": "2025-05-11T11:19:53.445Z"
   },
   {
    "duration": 0,
    "start_time": "2025-05-11T11:19:53.445Z"
   },
   {
    "duration": 4376,
    "start_time": "2025-05-11T11:24:55.086Z"
   },
   {
    "duration": 2,
    "start_time": "2025-05-11T11:24:59.465Z"
   },
   {
    "duration": 229,
    "start_time": "2025-05-11T11:24:59.469Z"
   },
   {
    "duration": 1186,
    "start_time": "2025-05-11T11:24:59.701Z"
   },
   {
    "duration": 378,
    "start_time": "2025-05-11T11:25:00.890Z"
   },
   {
    "duration": 8,
    "start_time": "2025-05-11T11:25:01.271Z"
   },
   {
    "duration": 24,
    "start_time": "2025-05-11T11:25:01.281Z"
   },
   {
    "duration": 63,
    "start_time": "2025-05-11T11:25:01.307Z"
   },
   {
    "duration": 45,
    "start_time": "2025-05-11T11:25:01.373Z"
   },
   {
    "duration": 1056,
    "start_time": "2025-05-11T11:25:01.421Z"
   },
   {
    "duration": 0,
    "start_time": "2025-05-11T11:25:02.479Z"
   },
   {
    "duration": 0,
    "start_time": "2025-05-11T11:25:02.480Z"
   },
   {
    "duration": 0,
    "start_time": "2025-05-11T11:25:02.481Z"
   },
   {
    "duration": 0,
    "start_time": "2025-05-11T11:25:02.483Z"
   },
   {
    "duration": 0,
    "start_time": "2025-05-11T11:25:02.484Z"
   },
   {
    "duration": 0,
    "start_time": "2025-05-11T11:25:02.485Z"
   },
   {
    "duration": 0,
    "start_time": "2025-05-11T11:25:02.486Z"
   },
   {
    "duration": 0,
    "start_time": "2025-05-11T11:25:02.488Z"
   },
   {
    "duration": 0,
    "start_time": "2025-05-11T11:25:02.489Z"
   },
   {
    "duration": 0,
    "start_time": "2025-05-11T11:25:02.490Z"
   },
   {
    "duration": 0,
    "start_time": "2025-05-11T11:25:02.491Z"
   },
   {
    "duration": 5,
    "start_time": "2025-05-11T11:26:02.247Z"
   },
   {
    "duration": 400,
    "start_time": "2025-05-11T11:26:05.013Z"
   },
   {
    "duration": 0,
    "start_time": "2025-05-11T11:42:23.165Z"
   },
   {
    "duration": 4839,
    "start_time": "2025-05-11T11:42:41.988Z"
   },
   {
    "duration": 808,
    "start_time": "2025-05-11T11:42:46.829Z"
   },
   {
    "duration": 2,
    "start_time": "2025-05-11T11:42:47.639Z"
   },
   {
    "duration": 114,
    "start_time": "2025-05-11T11:42:47.643Z"
   },
   {
    "duration": 1044,
    "start_time": "2025-05-11T11:42:47.759Z"
   },
   {
    "duration": 343,
    "start_time": "2025-05-11T11:42:48.805Z"
   },
   {
    "duration": 11,
    "start_time": "2025-05-11T11:42:49.150Z"
   },
   {
    "duration": 38,
    "start_time": "2025-05-11T11:42:49.163Z"
   },
   {
    "duration": 25,
    "start_time": "2025-05-11T11:42:49.203Z"
   },
   {
    "duration": 101,
    "start_time": "2025-05-11T11:42:49.230Z"
   },
   {
    "duration": 5,
    "start_time": "2025-05-11T11:42:49.333Z"
   },
   {
    "duration": 37026,
    "start_time": "2025-05-11T11:42:49.339Z"
   },
   {
    "duration": 0,
    "start_time": "2025-05-11T11:43:26.368Z"
   },
   {
    "duration": 0,
    "start_time": "2025-05-11T11:43:26.369Z"
   },
   {
    "duration": 0,
    "start_time": "2025-05-11T11:43:26.370Z"
   },
   {
    "duration": 0,
    "start_time": "2025-05-11T11:43:26.371Z"
   },
   {
    "duration": 0,
    "start_time": "2025-05-11T11:43:26.372Z"
   },
   {
    "duration": 0,
    "start_time": "2025-05-11T11:43:26.373Z"
   },
   {
    "duration": 0,
    "start_time": "2025-05-11T11:43:26.374Z"
   },
   {
    "duration": 0,
    "start_time": "2025-05-11T11:43:26.375Z"
   },
   {
    "duration": 0,
    "start_time": "2025-05-11T11:43:26.376Z"
   },
   {
    "duration": 0,
    "start_time": "2025-05-11T11:43:26.377Z"
   },
   {
    "duration": 0,
    "start_time": "2025-05-11T11:43:26.379Z"
   },
   {
    "duration": 0,
    "start_time": "2025-05-11T11:43:26.379Z"
   },
   {
    "duration": 1604,
    "start_time": "2025-05-11T11:44:25.064Z"
   },
   {
    "duration": 141,
    "start_time": "2025-05-11T11:44:26.670Z"
   },
   {
    "duration": 3,
    "start_time": "2025-05-11T11:44:26.813Z"
   },
   {
    "duration": 47,
    "start_time": "2025-05-11T11:44:26.818Z"
   },
   {
    "duration": 1622,
    "start_time": "2025-05-11T11:44:26.868Z"
   },
   {
    "duration": 377,
    "start_time": "2025-05-11T11:44:28.492Z"
   },
   {
    "duration": 8,
    "start_time": "2025-05-11T11:44:28.874Z"
   },
   {
    "duration": 13,
    "start_time": "2025-05-11T11:44:28.884Z"
   },
   {
    "duration": 8,
    "start_time": "2025-05-11T11:44:28.899Z"
   },
   {
    "duration": 8,
    "start_time": "2025-05-11T11:44:28.908Z"
   },
   {
    "duration": 6,
    "start_time": "2025-05-11T11:44:28.918Z"
   },
   {
    "duration": 655180,
    "start_time": "2025-05-11T11:44:28.925Z"
   },
   {
    "duration": 12,
    "start_time": "2025-05-11T11:55:24.106Z"
   },
   {
    "duration": 306,
    "start_time": "2025-05-11T11:55:24.121Z"
   },
   {
    "duration": 6,
    "start_time": "2025-05-11T11:55:24.430Z"
   },
   {
    "duration": 115,
    "start_time": "2025-05-11T11:55:24.438Z"
   },
   {
    "duration": 0,
    "start_time": "2025-05-11T11:55:24.555Z"
   },
   {
    "duration": 0,
    "start_time": "2025-05-11T11:55:24.556Z"
   },
   {
    "duration": 0,
    "start_time": "2025-05-11T11:55:24.558Z"
   },
   {
    "duration": 0,
    "start_time": "2025-05-11T11:55:24.559Z"
   },
   {
    "duration": 0,
    "start_time": "2025-05-11T11:55:24.560Z"
   },
   {
    "duration": 0,
    "start_time": "2025-05-11T11:55:24.561Z"
   },
   {
    "duration": 0,
    "start_time": "2025-05-11T11:55:24.562Z"
   },
   {
    "duration": 0,
    "start_time": "2025-05-11T11:55:24.563Z"
   },
   {
    "duration": 167,
    "start_time": "2025-05-11T12:04:00.442Z"
   },
   {
    "duration": 6,
    "start_time": "2025-05-11T12:07:27.333Z"
   },
   {
    "duration": 7,
    "start_time": "2025-05-11T12:07:45.566Z"
   },
   {
    "duration": 77,
    "start_time": "2025-05-11T12:07:57.225Z"
   },
   {
    "duration": 88,
    "start_time": "2025-05-11T12:08:03.825Z"
   },
   {
    "duration": 6,
    "start_time": "2025-05-11T12:08:11.295Z"
   },
   {
    "duration": 346,
    "start_time": "2025-05-11T12:08:13.972Z"
   },
   {
    "duration": 4,
    "start_time": "2025-05-11T12:08:24.495Z"
   },
   {
    "duration": 387,
    "start_time": "2025-05-11T12:08:26.854Z"
   },
   {
    "duration": 4,
    "start_time": "2025-05-11T12:08:55.584Z"
   },
   {
    "duration": 8,
    "start_time": "2025-05-11T12:08:56.716Z"
   },
   {
    "duration": 5,
    "start_time": "2025-05-11T12:10:16.966Z"
   },
   {
    "duration": 7,
    "start_time": "2025-05-11T12:10:18.253Z"
   },
   {
    "duration": 5,
    "start_time": "2025-05-11T12:10:31.106Z"
   },
   {
    "duration": 7,
    "start_time": "2025-05-11T12:10:32.194Z"
   },
   {
    "duration": 1392,
    "start_time": "2025-05-11T12:11:56.765Z"
   },
   {
    "duration": 1583,
    "start_time": "2025-05-11T12:12:32.455Z"
   },
   {
    "duration": 4,
    "start_time": "2025-05-11T12:12:34.040Z"
   },
   {
    "duration": 274,
    "start_time": "2025-05-11T12:12:34.046Z"
   },
   {
    "duration": 1839,
    "start_time": "2025-05-11T12:12:34.322Z"
   },
   {
    "duration": 401,
    "start_time": "2025-05-11T12:12:36.163Z"
   },
   {
    "duration": 8,
    "start_time": "2025-05-11T12:12:36.566Z"
   },
   {
    "duration": 55,
    "start_time": "2025-05-11T12:12:36.576Z"
   },
   {
    "duration": 70,
    "start_time": "2025-05-11T12:12:36.634Z"
   },
   {
    "duration": 163,
    "start_time": "2025-05-11T12:12:36.706Z"
   },
   {
    "duration": 160,
    "start_time": "2025-05-11T12:12:36.871Z"
   },
   {
    "duration": 0,
    "start_time": "2025-05-11T12:12:37.033Z"
   },
   {
    "duration": 0,
    "start_time": "2025-05-11T12:12:37.034Z"
   },
   {
    "duration": 0,
    "start_time": "2025-05-11T12:12:37.035Z"
   },
   {
    "duration": 0,
    "start_time": "2025-05-11T12:12:37.036Z"
   },
   {
    "duration": 0,
    "start_time": "2025-05-11T12:12:37.038Z"
   },
   {
    "duration": 0,
    "start_time": "2025-05-11T12:12:37.039Z"
   },
   {
    "duration": 0,
    "start_time": "2025-05-11T12:12:37.040Z"
   },
   {
    "duration": 0,
    "start_time": "2025-05-11T12:12:37.042Z"
   },
   {
    "duration": 0,
    "start_time": "2025-05-11T12:12:37.043Z"
   },
   {
    "duration": 0,
    "start_time": "2025-05-11T12:12:37.060Z"
   },
   {
    "duration": 0,
    "start_time": "2025-05-11T12:12:37.061Z"
   },
   {
    "duration": 0,
    "start_time": "2025-05-11T12:12:37.062Z"
   },
   {
    "duration": 0,
    "start_time": "2025-05-11T12:12:37.064Z"
   },
   {
    "duration": 0,
    "start_time": "2025-05-11T12:12:37.065Z"
   },
   {
    "duration": 0,
    "start_time": "2025-05-11T12:12:37.069Z"
   },
   {
    "duration": 0,
    "start_time": "2025-05-11T12:12:37.071Z"
   },
   {
    "duration": 0,
    "start_time": "2025-05-11T12:12:37.072Z"
   },
   {
    "duration": 8,
    "start_time": "2025-05-11T12:12:45.585Z"
   },
   {
    "duration": 1423,
    "start_time": "2025-05-11T12:12:47.415Z"
   },
   {
    "duration": 1484,
    "start_time": "2025-05-11T12:14:12.550Z"
   },
   {
    "duration": 3,
    "start_time": "2025-05-11T12:14:14.036Z"
   },
   {
    "duration": 90,
    "start_time": "2025-05-11T12:14:14.040Z"
   },
   {
    "duration": 1107,
    "start_time": "2025-05-11T12:14:14.132Z"
   },
   {
    "duration": 379,
    "start_time": "2025-05-11T12:14:15.240Z"
   },
   {
    "duration": 8,
    "start_time": "2025-05-11T12:14:15.621Z"
   },
   {
    "duration": 88,
    "start_time": "2025-05-11T12:14:15.631Z"
   },
   {
    "duration": 165,
    "start_time": "2025-05-11T12:14:15.721Z"
   },
   {
    "duration": 11,
    "start_time": "2025-05-11T12:14:15.888Z"
   },
   {
    "duration": 152,
    "start_time": "2025-05-11T12:14:15.902Z"
   },
   {
    "duration": 0,
    "start_time": "2025-05-11T12:14:16.056Z"
   },
   {
    "duration": 0,
    "start_time": "2025-05-11T12:14:16.061Z"
   },
   {
    "duration": 0,
    "start_time": "2025-05-11T12:14:16.063Z"
   },
   {
    "duration": 0,
    "start_time": "2025-05-11T12:14:16.064Z"
   },
   {
    "duration": 0,
    "start_time": "2025-05-11T12:14:16.065Z"
   },
   {
    "duration": 0,
    "start_time": "2025-05-11T12:14:16.067Z"
   },
   {
    "duration": 0,
    "start_time": "2025-05-11T12:14:16.068Z"
   },
   {
    "duration": 0,
    "start_time": "2025-05-11T12:14:16.069Z"
   },
   {
    "duration": 0,
    "start_time": "2025-05-11T12:14:16.070Z"
   },
   {
    "duration": 0,
    "start_time": "2025-05-11T12:14:16.071Z"
   },
   {
    "duration": 0,
    "start_time": "2025-05-11T12:14:16.072Z"
   },
   {
    "duration": 0,
    "start_time": "2025-05-11T12:14:16.073Z"
   },
   {
    "duration": 0,
    "start_time": "2025-05-11T12:14:16.074Z"
   },
   {
    "duration": 4357,
    "start_time": "2025-05-11T12:14:48.744Z"
   },
   {
    "duration": 3,
    "start_time": "2025-05-11T12:14:53.103Z"
   },
   {
    "duration": 18,
    "start_time": "2025-05-11T12:14:53.108Z"
   },
   {
    "duration": 1184,
    "start_time": "2025-05-11T12:14:53.128Z"
   },
   {
    "duration": 358,
    "start_time": "2025-05-11T12:14:54.315Z"
   },
   {
    "duration": 8,
    "start_time": "2025-05-11T12:14:54.675Z"
   },
   {
    "duration": 94,
    "start_time": "2025-05-11T12:14:54.686Z"
   },
   {
    "duration": 60,
    "start_time": "2025-05-11T12:14:54.782Z"
   },
   {
    "duration": 23,
    "start_time": "2025-05-11T12:14:54.844Z"
   },
   {
    "duration": 579,
    "start_time": "2025-05-11T12:14:54.869Z"
   },
   {
    "duration": 352,
    "start_time": "2025-05-11T12:14:55.450Z"
   },
   {
    "duration": 0,
    "start_time": "2025-05-11T12:14:55.804Z"
   },
   {
    "duration": 0,
    "start_time": "2025-05-11T12:14:55.806Z"
   },
   {
    "duration": 0,
    "start_time": "2025-05-11T12:14:55.807Z"
   },
   {
    "duration": 0,
    "start_time": "2025-05-11T12:14:55.808Z"
   },
   {
    "duration": 0,
    "start_time": "2025-05-11T12:14:55.809Z"
   },
   {
    "duration": 1,
    "start_time": "2025-05-11T12:14:55.810Z"
   },
   {
    "duration": 0,
    "start_time": "2025-05-11T12:14:55.812Z"
   },
   {
    "duration": 0,
    "start_time": "2025-05-11T12:14:55.813Z"
   },
   {
    "duration": 0,
    "start_time": "2025-05-11T12:14:55.814Z"
   },
   {
    "duration": 0,
    "start_time": "2025-05-11T12:14:55.815Z"
   },
   {
    "duration": 0,
    "start_time": "2025-05-11T12:14:55.817Z"
   },
   {
    "duration": 0,
    "start_time": "2025-05-11T12:14:55.818Z"
   },
   {
    "duration": 20,
    "start_time": "2025-05-11T12:15:25.286Z"
   },
   {
    "duration": 90123,
    "start_time": "2025-05-11T12:15:34.254Z"
   },
   {
    "duration": 6,
    "start_time": "2025-05-11T12:17:34.474Z"
   },
   {
    "duration": 28,
    "start_time": "2025-05-11T12:17:34.687Z"
   },
   {
    "duration": 22,
    "start_time": "2025-05-11T12:17:40.562Z"
   },
   {
    "duration": 4045,
    "start_time": "2025-05-11T12:18:41.099Z"
   },
   {
    "duration": 3,
    "start_time": "2025-05-11T12:18:45.146Z"
   },
   {
    "duration": 162,
    "start_time": "2025-05-11T12:18:45.150Z"
   },
   {
    "duration": 1377,
    "start_time": "2025-05-11T12:18:45.314Z"
   },
   {
    "duration": 367,
    "start_time": "2025-05-11T12:18:46.693Z"
   },
   {
    "duration": 7,
    "start_time": "2025-05-11T12:18:47.062Z"
   },
   {
    "duration": 27,
    "start_time": "2025-05-11T12:18:47.071Z"
   },
   {
    "duration": 15,
    "start_time": "2025-05-11T12:18:47.100Z"
   },
   {
    "duration": 7,
    "start_time": "2025-05-11T12:18:47.116Z"
   },
   {
    "duration": 591,
    "start_time": "2025-05-11T12:18:47.126Z"
   },
   {
    "duration": 21499,
    "start_time": "2025-05-11T12:18:47.719Z"
   },
   {
    "duration": 0,
    "start_time": "2025-05-11T12:19:09.220Z"
   },
   {
    "duration": 0,
    "start_time": "2025-05-11T12:19:09.221Z"
   },
   {
    "duration": 0,
    "start_time": "2025-05-11T12:19:09.222Z"
   },
   {
    "duration": 0,
    "start_time": "2025-05-11T12:19:09.224Z"
   },
   {
    "duration": 0,
    "start_time": "2025-05-11T12:19:09.225Z"
   },
   {
    "duration": 0,
    "start_time": "2025-05-11T12:19:09.225Z"
   },
   {
    "duration": 0,
    "start_time": "2025-05-11T12:19:09.227Z"
   },
   {
    "duration": 0,
    "start_time": "2025-05-11T12:19:09.228Z"
   },
   {
    "duration": 0,
    "start_time": "2025-05-11T12:19:09.229Z"
   },
   {
    "duration": 0,
    "start_time": "2025-05-11T12:19:09.230Z"
   },
   {
    "duration": 0,
    "start_time": "2025-05-11T12:19:09.231Z"
   },
   {
    "duration": 0,
    "start_time": "2025-05-11T12:19:09.232Z"
   },
   {
    "duration": 4220,
    "start_time": "2025-05-11T12:21:31.149Z"
   },
   {
    "duration": 2,
    "start_time": "2025-05-11T12:21:35.371Z"
   },
   {
    "duration": 150,
    "start_time": "2025-05-11T12:21:35.375Z"
   },
   {
    "duration": 1177,
    "start_time": "2025-05-11T12:21:35.528Z"
   },
   {
    "duration": 374,
    "start_time": "2025-05-11T12:21:36.707Z"
   },
   {
    "duration": 8,
    "start_time": "2025-05-11T12:21:37.082Z"
   },
   {
    "duration": 49,
    "start_time": "2025-05-11T12:21:37.092Z"
   },
   {
    "duration": 39,
    "start_time": "2025-05-11T12:21:37.143Z"
   },
   {
    "duration": 65,
    "start_time": "2025-05-11T12:21:37.184Z"
   },
   {
    "duration": 624,
    "start_time": "2025-05-11T12:21:37.252Z"
   },
   {
    "duration": 2476085,
    "start_time": "2025-05-11T12:21:37.878Z"
   },
   {
    "duration": 8,
    "start_time": "2025-05-11T13:02:53.965Z"
   },
   {
    "duration": 156,
    "start_time": "2025-05-11T13:02:53.975Z"
   },
   {
    "duration": 255,
    "start_time": "2025-05-11T13:02:54.133Z"
   },
   {
    "duration": 7738,
    "start_time": "2025-05-11T13:02:54.390Z"
   },
   {
    "duration": 100637,
    "start_time": "2025-05-11T13:03:02.130Z"
   },
   {
    "duration": 85315,
    "start_time": "2025-05-11T13:04:42.768Z"
   },
   {
    "duration": 416777,
    "start_time": "2025-05-11T13:06:08.085Z"
   },
   {
    "duration": 5,
    "start_time": "2025-05-11T13:13:04.865Z"
   },
   {
    "duration": 21,
    "start_time": "2025-05-11T13:13:04.872Z"
   },
   {
    "duration": 378,
    "start_time": "2025-05-11T13:13:04.895Z"
   },
   {
    "duration": 0,
    "start_time": "2025-05-11T13:13:05.275Z"
   },
   {
    "duration": 0,
    "start_time": "2025-05-11T13:13:05.277Z"
   },
   {
    "duration": 81,
    "start_time": "2025-05-11T13:16:48.176Z"
   },
   {
    "duration": 191233,
    "start_time": "2025-05-11T13:16:57.134Z"
   },
   {
    "duration": 66,
    "start_time": "2025-05-11T13:20:08.370Z"
   },
   {
    "duration": 604664,
    "start_time": "2025-05-11T13:20:24.727Z"
   },
   {
    "duration": 64,
    "start_time": "2025-05-11T13:30:29.393Z"
   },
   {
    "duration": 0,
    "start_time": "2025-05-11T13:30:29.461Z"
   },
   {
    "duration": 74969,
    "start_time": "2025-05-11T13:30:59.114Z"
   },
   {
    "duration": 77,
    "start_time": "2025-05-11T13:32:14.085Z"
   },
   {
    "duration": 0,
    "start_time": "2025-05-11T13:32:14.164Z"
   },
   {
    "duration": 1031133,
    "start_time": "2025-05-11T13:32:59.156Z"
   },
   {
    "duration": 59,
    "start_time": "2025-05-11T13:50:10.291Z"
   },
   {
    "duration": 0,
    "start_time": "2025-05-11T13:50:10.352Z"
   },
   {
    "duration": 1610365,
    "start_time": "2025-05-11T13:50:20.930Z"
   },
   {
    "duration": 5,
    "start_time": "2025-05-11T14:17:11.297Z"
   },
   {
    "duration": 12398,
    "start_time": "2025-05-11T14:17:11.303Z"
   },
   {
    "duration": 4379,
    "start_time": "2025-05-11T14:19:16.906Z"
   },
   {
    "duration": 4,
    "start_time": "2025-05-11T14:19:21.288Z"
   },
   {
    "duration": 117,
    "start_time": "2025-05-11T14:19:21.294Z"
   },
   {
    "duration": 1030,
    "start_time": "2025-05-11T14:19:21.413Z"
   },
   {
    "duration": 360,
    "start_time": "2025-05-11T14:19:22.445Z"
   },
   {
    "duration": 8,
    "start_time": "2025-05-11T14:19:22.806Z"
   },
   {
    "duration": 54,
    "start_time": "2025-05-11T14:19:22.815Z"
   },
   {
    "duration": 25,
    "start_time": "2025-05-11T14:19:22.871Z"
   },
   {
    "duration": 25,
    "start_time": "2025-05-11T14:19:22.897Z"
   },
   {
    "duration": 557,
    "start_time": "2025-05-11T14:19:22.925Z"
   },
   {
    "duration": 2488687,
    "start_time": "2025-05-11T14:19:23.484Z"
   },
   {
    "duration": 8,
    "start_time": "2025-05-11T15:00:52.172Z"
   },
   {
    "duration": 163,
    "start_time": "2025-05-11T15:00:52.181Z"
   },
   {
    "duration": 3,
    "start_time": "2025-05-11T15:00:52.346Z"
   },
   {
    "duration": 7003,
    "start_time": "2025-05-11T15:00:52.351Z"
   },
   {
    "duration": 96408,
    "start_time": "2025-05-11T15:00:59.356Z"
   },
   {
    "duration": 71208,
    "start_time": "2025-05-11T15:02:35.766Z"
   },
   {
    "duration": 401996,
    "start_time": "2025-05-11T15:03:46.975Z"
   },
   {
    "duration": 90,
    "start_time": "2025-05-11T15:10:28.973Z"
   },
   {
    "duration": 97,
    "start_time": "2025-05-11T15:10:29.065Z"
   },
   {
    "duration": 2983121,
    "start_time": "2025-05-11T15:10:29.164Z"
   },
   {
    "duration": 4,
    "start_time": "2025-05-11T16:00:12.287Z"
   },
   {
    "duration": 17768,
    "start_time": "2025-05-11T16:00:12.293Z"
   },
   {
    "duration": 19,
    "start_time": "2025-05-11T16:00:30.063Z"
   },
   {
    "duration": 18124,
    "start_time": "2025-05-11T16:01:02.601Z"
   },
   {
    "duration": 5048,
    "start_time": "2025-06-10T10:00:13.753Z"
   },
   {
    "duration": 3,
    "start_time": "2025-06-10T10:00:18.803Z"
   },
   {
    "duration": 11,
    "start_time": "2025-06-10T10:00:18.808Z"
   },
   {
    "duration": 930,
    "start_time": "2025-06-10T10:00:18.821Z"
   },
   {
    "duration": 354,
    "start_time": "2025-06-10T10:00:19.753Z"
   },
   {
    "duration": 8,
    "start_time": "2025-06-10T10:00:20.108Z"
   },
   {
    "duration": 197,
    "start_time": "2025-06-10T10:00:20.117Z"
   },
   {
    "duration": 116,
    "start_time": "2025-06-10T10:00:20.319Z"
   },
   {
    "duration": 181,
    "start_time": "2025-06-10T10:00:20.437Z"
   },
   {
    "duration": 620,
    "start_time": "2025-06-10T10:00:20.621Z"
   },
   {
    "duration": 2416031,
    "start_time": "2025-06-10T10:00:21.243Z"
   },
   {
    "duration": 7,
    "start_time": "2025-06-10T10:40:37.276Z"
   },
   {
    "duration": 178,
    "start_time": "2025-06-10T10:40:37.285Z"
   },
   {
    "duration": 3,
    "start_time": "2025-06-10T10:40:37.465Z"
   },
   {
    "duration": 6725,
    "start_time": "2025-06-10T10:40:37.470Z"
   },
   {
    "duration": 3,
    "start_time": "2025-06-10T10:40:44.197Z"
   },
   {
    "duration": 325,
    "start_time": "2025-06-10T10:40:44.202Z"
   },
   {
    "duration": 0,
    "start_time": "2025-06-10T10:40:44.528Z"
   },
   {
    "duration": 0,
    "start_time": "2025-06-10T10:40:44.530Z"
   },
   {
    "duration": 1,
    "start_time": "2025-06-10T10:40:44.538Z"
   },
   {
    "duration": 0,
    "start_time": "2025-06-10T10:40:44.539Z"
   },
   {
    "duration": 0,
    "start_time": "2025-06-10T10:40:44.541Z"
   },
   {
    "duration": 0,
    "start_time": "2025-06-10T10:40:44.542Z"
   },
   {
    "duration": 0,
    "start_time": "2025-06-10T10:40:44.543Z"
   },
   {
    "duration": 0,
    "start_time": "2025-06-10T10:40:44.544Z"
   },
   {
    "duration": 0,
    "start_time": "2025-06-10T10:40:44.545Z"
   },
   {
    "duration": 5316,
    "start_time": "2025-08-31T06:48:53.137Z"
   },
   {
    "duration": 3,
    "start_time": "2025-08-31T06:48:58.456Z"
   },
   {
    "duration": 10,
    "start_time": "2025-08-31T06:48:58.460Z"
   },
   {
    "duration": 926,
    "start_time": "2025-08-31T06:48:58.473Z"
   },
   {
    "duration": 353,
    "start_time": "2025-08-31T06:48:59.401Z"
   },
   {
    "duration": 7,
    "start_time": "2025-08-31T06:48:59.756Z"
   },
   {
    "duration": 12,
    "start_time": "2025-08-31T06:48:59.765Z"
   },
   {
    "duration": 7,
    "start_time": "2025-08-31T06:48:59.778Z"
   },
   {
    "duration": 7,
    "start_time": "2025-08-31T06:48:59.787Z"
   },
   {
    "duration": 574,
    "start_time": "2025-08-31T06:48:59.797Z"
   },
   {
    "duration": 2452646,
    "start_time": "2025-08-31T06:49:00.373Z"
   },
   {
    "duration": 23,
    "start_time": "2025-08-31T07:29:53.021Z"
   },
   {
    "duration": 146,
    "start_time": "2025-08-31T07:29:53.049Z"
   },
   {
    "duration": 3,
    "start_time": "2025-08-31T07:29:53.196Z"
   },
   {
    "duration": 8685,
    "start_time": "2025-08-31T07:29:53.201Z"
   },
   {
    "duration": 4,
    "start_time": "2025-08-31T07:30:01.888Z"
   },
   {
    "duration": 107694,
    "start_time": "2025-08-31T07:30:01.894Z"
   },
   {
    "duration": 80677,
    "start_time": "2025-08-31T07:31:49.590Z"
   },
   {
    "duration": 452875,
    "start_time": "2025-08-31T07:33:10.269Z"
   },
   {
    "duration": 4,
    "start_time": "2025-08-31T07:40:43.149Z"
   },
   {
    "duration": 29,
    "start_time": "2025-08-31T07:40:43.157Z"
   },
   {
    "duration": 3811295,
    "start_time": "2025-08-31T07:40:43.187Z"
   },
   {
    "duration": 4,
    "start_time": "2025-08-31T08:44:14.484Z"
   },
   {
    "duration": 17560,
    "start_time": "2025-08-31T08:44:14.489Z"
   },
   {
    "duration": 16890,
    "start_time": "2025-08-31T08:44:32.050Z"
   }
  ],
  "kernelspec": {
   "display_name": "Python 3 (ipykernel)",
   "language": "python",
   "name": "python3"
  },
  "language_info": {
   "codemirror_mode": {
    "name": "ipython",
    "version": 3
   },
   "file_extension": ".py",
   "mimetype": "text/x-python",
   "name": "python",
   "nbconvert_exporter": "python",
   "pygments_lexer": "ipython3",
   "version": "3.9.5"
  },
  "toc": {
   "base_numbering": 1,
   "nav_menu": {},
   "number_sections": true,
   "sideBar": true,
   "skip_h1_title": true,
   "title_cell": "Содержание",
   "title_sidebar": "Contents",
   "toc_cell": true,
   "toc_position": {
    "height": "calc(100% - 180px)",
    "left": "10px",
    "top": "150px",
    "width": "226.967px"
   },
   "toc_section_display": true,
   "toc_window_display": true
  }
 },
 "nbformat": 4,
 "nbformat_minor": 2
}
